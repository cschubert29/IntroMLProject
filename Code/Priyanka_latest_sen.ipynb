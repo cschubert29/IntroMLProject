{
 "cells": [
  {
   "cell_type": "code",
   "execution_count": 30,
   "metadata": {},
   "outputs": [],
   "source": [
    "import pandas as pd\n",
    "import numpy as np\n",
    "import numpy as np\n",
    "from sklearn.tree import DecisionTreeClassifier, export_graphviz\n",
    "from sklearn.preprocessing import Imputer\n",
    "from sklearn.base import TransformerMixin\n",
    "from sklearn import preprocessing\n",
    "from sklearn.preprocessing import LabelEncoder\n",
    "from sklearn.pipeline import Pipeline\n",
    "from sklearn import svm\n",
    "from sklearn.ensemble import RandomForestClassifier\n",
    "from imblearn.metrics import classification_report_imbalanced"
   ]
  },
  {
   "cell_type": "code",
   "execution_count": 31,
   "metadata": {},
   "outputs": [],
   "source": [
    "#Reading data files\n",
    "path = r'C:\\Users\\az9826\\Desktop\\Machine_learning'\n",
    "filename_sen1 = path+'\\\\'+'Sen_bill_status_contemporary.json'\n",
    "filename_sen2 = path+'\\\\'+'Sen_bill_status_modern.json'\n",
    "f_sm = path+'\\\\'+'Majority Party Chairmanships - Senate.csv'\n",
    "f_lc = path+'\\\\'+'legislators-current.csv'\n",
    "f_lh = path+'\\\\'+'legislators-historical.csv'"
   ]
  },
  {
   "cell_type": "code",
   "execution_count": 32,
   "metadata": {},
   "outputs": [],
   "source": [
    "#Getting the details about the congress and which party was in majority for that bill\n",
    "df_sm = pd.read_csv(f_sm)\n",
    "df_sm = df_sm[['Congress', 'MajParty']]\n",
    "df_sm = df_sm.drop_duplicates()"
   ]
  },
  {
   "cell_type": "code",
   "execution_count": 33,
   "metadata": {},
   "outputs": [],
   "source": [
    "#Data preprocessing : fetching sponsors name and to which party they belong from legislators historical table\n",
    "#There was a seperate fiel for full name in the data but the data was ambegiuous, therefore create the full name using the \n",
    "#other two fields present that is first name and last name\n",
    "#keeping only those records where party type is sen taht is senate \n",
    "#And keeping only those records where party is either Republican or Democrat sinced there were many other parties as well \n",
    "# but these two are of our interest \n",
    "df_lc = pd.read_csv(f_lc)\n",
    "df_lh = pd.read_csv(f_lh)\n",
    "df_lh['full_name'] = df_lh['last_name'].fillna('')+', '+df_lh['first_name'].fillna('')\n",
    "df_lh = df_lh[df_lh['type'] == 'sen']\n",
    "df_lh = df_lh[['full_name', 'party']]\n",
    "party = [\"Republican\", \"Democrat\"]\n",
    "df_lh = df_lh[df_lh['party'].isin(party)]"
   ]
  },
  {
   "cell_type": "code",
   "execution_count": 34,
   "metadata": {},
   "outputs": [
    {
     "name": "stderr",
     "output_type": "stream",
     "text": [
      "C:\\Users\\az9826\\AppData\\Local\\Continuum\\anaconda3\\lib\\site-packages\\pandas\\core\\frame.py:6201: FutureWarning: Sorting because non-concatenation axis is not aligned. A future version\n",
      "of pandas will change to not sort by default.\n",
      "\n",
      "To accept the future behavior, pass 'sort=True'.\n",
      "\n",
      "To retain the current behavior and silence the warning, pass sort=False\n",
      "\n",
      "  sort=sort)\n"
     ]
    }
   ],
   "source": [
    "#Appending the two senate files because we have collected the data from two different sources\n",
    "df1 = pd.read_json(filename_sen1)\n",
    "df2 = pd.read_json(filename_sen2)\n",
    "df = df1.append(df2, ignore_index=True)\n",
    "df = df.fillna(np.nan)\n"
   ]
  },
  {
   "cell_type": "code",
   "execution_count": 35,
   "metadata": {},
   "outputs": [],
   "source": [
    "# normalizing the data by creating flags \n",
    "#if there is any data in the cosponsor field taht is any non missing value make the flag 1 else 0 \n",
    "#if there is non missing value in the field amendments make the flag 1 else 0\n",
    "#if there is non missing value in the field  popular_title make the flag 1 else 0\n",
    "#if there is non missing value in the field  related_bills make the flag 1 else 0\n",
    "# creating full name for the sponsor , keeping only first and last name\n",
    "df['cosponsor_flg'] = np.where(df['cosponsors'].apply(len)==0, 0, 1)\n",
    "df['amendments_flg'] = np.where(df['amendments'].apply(len)==0, 0, 1)\n",
    "df['popular_flg'] = np.where(df['popular_title'].isnull(), 0, 1)\n",
    "df['related_bills_flg'] = np.where(df['related_bills'].apply(len)==0, 0, 1)\n",
    "df['sponsor_nm'] = [d.get('name') for d in df.sponsor]\n",
    "df['full_name'] = df['sponsor_nm'].str.split(' ',expand = True)[0]+' '+df['sponsor_nm'].str.split(' ',expand = True)[1] \n",
    "df['Congress'] = pd.to_numeric(df['congress'], errors='coerce')"
   ]
  },
  {
   "cell_type": "code",
   "execution_count": 36,
   "metadata": {},
   "outputs": [],
   "source": [
    "#merging files on sponsor names and congress\n",
    "#keeping only those records where status of the bill is either passed or enacted\n",
    "df_sen1 = pd.merge(df, df_lh, how='inner', on=['full_name'])\n",
    "df_sen2 = pd.merge(df_sen1, df_sm, how='inner', on=['Congress'])\n",
    "df_sen3 = df_sen2[df_sen2['party'].isin(party)]\n",
    "df_sen3['party_flg'] = np.where(df_sen3['party'] == \"Republican\", 0, 1)\n",
    "df_sen3['majority_flg'] = np.where(df_sen3['MajParty'] == \"R\", 0, 1)\n",
    "statuses = [\"PASSED:BILL\", \"ENACTED:SIGNED\", \"REPORTED\", \"PROV_KILL:SUSPENSIONFAILED\", \"PROV_KILL:CLOTUREFAILED\",\n",
    "           \"FAIL:ORIGINATING:SENATE\", \"PASSED:SIMPLERES\", \"PASSED:CONSTAMEND\", \"PASS_OVER:SENATE\", \"PASSED:CONCURRENTRES\",\n",
    "           \"FAIL:SECOND:SENATE\", \"PASS_BACK:SENATE\", \"PROV_KILL:PINGPONGFAIL\", \"CONFERENCE:PASSED:SENATE\", \"PROV_KILL:VETO\",\n",
    "           \"VETOED:POCKET\",\"VETOED:OVERRIDE_FAIL_ORIGINATING:SENATE\",\"VETOED:OVERRIDE_PASS_OVER:SENATE\", \"VETOED:OVERRIDE_FAIL_SECOND:SENATE\",\n",
    "           \"ENACTED:VETO_OVERRIDE\", \"ENACTED:TENDAYRULE\"]\n",
    "df_sen3['Class'] = np.where(df_sen3['status'].isin(statuses), 1, 0)"
   ]
  },
  {
   "cell_type": "code",
   "execution_count": 37,
   "metadata": {},
   "outputs": [],
   "source": [
    "#our class field is Status\n",
    "df_sen = df_sen3[['bill_id', 'cosponsor_flg','amendments_flg', 'popular_flg', 'related_bills_flg', 'party_flg', 'majority_flg', 'Class']]\n",
    "df_sen = df_sen.reset_index(drop = True)\n"
   ]
  },
  {
   "cell_type": "code",
   "execution_count": 38,
   "metadata": {},
   "outputs": [],
   "source": [
    "#Final Feature selection\n",
    "#taking 80% training data\n",
    "features = list(df_sen.columns[1:7])\n",
    "traindatasize = int(len(df_sen)*.8)\n",
    "testdatasize = len(df_sen) - traindatasize\n"
   ]
  },
  {
   "cell_type": "code",
   "execution_count": 39,
   "metadata": {},
   "outputs": [],
   "source": [
    "#assigning data for tarining and test\n",
    "traindata = df_sen[0:traindatasize]\n",
    "testdata = df_sen[traindatasize:len(df_sen)+1]\n",
    "\n",
    "df2 = traindata\n",
    "y_train = df2[\"Class\"]\n",
    "X_train = df2[features]\n",
    "\n",
    "df3 = testdata\n",
    "y_test = df3[\"Class\"]\n",
    "X_test = df3[features]\n"
   ]
  },
  {
   "cell_type": "code",
   "execution_count": 40,
   "metadata": {},
   "outputs": [
    {
     "data": {
      "text/plain": [
       "array([0, 0, 0, ..., 0, 0, 0])"
      ]
     },
     "execution_count": 40,
     "metadata": {},
     "output_type": "execute_result"
    }
   ],
   "source": [
    "#applying random forest \n",
    "rf = RandomForestClassifier(n_estimators=100, max_depth=2, random_state=0)\n",
    "rf.fit(X_train, y_train)\n",
    "y_predicted_rf = rf.predict(X_test)\n",
    "y_score_rf = rf.score(X_test,y_test)\n",
    "y_predicted_rf\n",
    "#y_score_rf"
   ]
  },
  {
   "cell_type": "code",
   "execution_count": 41,
   "metadata": {},
   "outputs": [
    {
     "data": {
      "text/plain": [
       "0.886372510737993"
      ]
     },
     "execution_count": 41,
     "metadata": {},
     "output_type": "execute_result"
    }
   ],
   "source": [
    "y_score_rf"
   ]
  },
  {
   "cell_type": "code",
   "execution_count": 42,
   "metadata": {},
   "outputs": [
    {
     "data": {
      "text/plain": [
       "array([0, 0, 0, ..., 0, 0, 0])"
      ]
     },
     "execution_count": 42,
     "metadata": {},
     "output_type": "execute_result"
    }
   ],
   "source": [
    "#applying decision tree\n",
    "dt = DecisionTreeClassifier()\n",
    "dt.fit(X_train, y_train)\n",
    "y_predicted = dt.predict(X_test)\n",
    "y_score = dt.score(X_test,y_test)\n",
    "y_predicted"
   ]
  },
  {
   "cell_type": "code",
   "execution_count": 43,
   "metadata": {},
   "outputs": [
    {
     "data": {
      "text/plain": [
       "0.8859820382663022"
      ]
     },
     "execution_count": 43,
     "metadata": {},
     "output_type": "execute_result"
    }
   ],
   "source": [
    "y_score"
   ]
  },
  {
   "cell_type": "code",
   "execution_count": 44,
   "metadata": {},
   "outputs": [
    {
     "data": {
      "text/plain": [
       "array([0, 0, 0, ..., 0, 0, 0])"
      ]
     },
     "execution_count": 44,
     "metadata": {},
     "output_type": "execute_result"
    }
   ],
   "source": [
    "#applying SVM\n",
    "d_svm = svm.SVC()\n",
    "d_svm.fit(X_train, y_train)\n",
    "y_predicted_svm = d_svm.predict(X_test)\n",
    "y_score_svm = d_svm.score(X_test,y_test)\n",
    "y_predicted_svm"
   ]
  },
  {
   "cell_type": "code",
   "execution_count": 45,
   "metadata": {},
   "outputs": [
    {
     "data": {
      "text/plain": [
       "0.8855915657946115"
      ]
     },
     "execution_count": 45,
     "metadata": {},
     "output_type": "execute_result"
    }
   ],
   "source": [
    "y_score_svm"
   ]
  },
  {
   "cell_type": "code",
   "execution_count": 46,
   "metadata": {},
   "outputs": [
    {
     "name": "stdout",
     "output_type": "stream",
     "text": [
      "                   pre       rec       spe        f1       geo       iba       sup\n",
      "\n",
      "          0       0.88      1.00      0.16      0.94      0.92      0.83      2217\n",
      "          1       0.95      0.16      1.00      0.28      0.92      0.85       344\n",
      "\n",
      "avg / total       0.89      0.89      0.28      0.85      0.92      0.84      2561\n",
      "\n"
     ]
    }
   ],
   "source": [
    "print(classification_report_imbalanced(y_test, y_predicted_rf))\n"
   ]
  },
  {
   "cell_type": "code",
   "execution_count": 49,
   "metadata": {},
   "outputs": [],
   "source": [
    "#converting data into csv for visualization \n",
    "df_sen.to_csv(path+'senate_viz.csv')"
   ]
  },
  {
   "cell_type": "code",
   "execution_count": null,
   "metadata": {},
   "outputs": [],
   "source": []
  }
 ],
 "metadata": {
  "kernelspec": {
   "display_name": "Python 3",
   "language": "python",
   "name": "python3"
  },
  "language_info": {
   "codemirror_mode": {
    "name": "ipython",
    "version": 3
   },
   "file_extension": ".py",
   "mimetype": "text/x-python",
   "name": "python",
   "nbconvert_exporter": "python",
   "pygments_lexer": "ipython3",
   "version": "3.6.5"
  }
 },
 "nbformat": 4,
 "nbformat_minor": 2
}
