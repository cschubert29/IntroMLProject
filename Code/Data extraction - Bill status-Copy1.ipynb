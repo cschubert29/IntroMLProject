{
 "cells": [
  {
   "cell_type": "code",
   "execution_count": 19,
   "metadata": {},
   "outputs": [],
   "source": [
    "#Imports\n",
    "import os\n",
    "import json"
   ]
  },
  {
   "cell_type": "code",
   "execution_count": 2,
   "metadata": {},
   "outputs": [
    {
     "data": {
      "text/plain": [
       "'C:\\\\Users\\\\cschu\\\\Ddrivelink\\\\IntroMLProject'"
      ]
     },
     "execution_count": 2,
     "metadata": {},
     "output_type": "execute_result"
    }
   ],
   "source": [
    "os.path.abspath(os.curdir)"
   ]
  },
  {
   "cell_type": "code",
   "execution_count": 3,
   "metadata": {},
   "outputs": [],
   "source": [
    "os.chdir('..')"
   ]
  },
  {
   "cell_type": "code",
   "execution_count": 4,
   "metadata": {},
   "outputs": [
    {
     "data": {
      "text/plain": [
       "'C:\\\\Users\\\\cschu\\\\Ddrivelink'"
      ]
     },
     "execution_count": 4,
     "metadata": {},
     "output_type": "execute_result"
    }
   ],
   "source": [
    "base_path = os.path.abspath(os.curdir)\n",
    "base_path"
   ]
  },
  {
   "cell_type": "code",
   "execution_count": 5,
   "metadata": {},
   "outputs": [
    {
     "data": {
      "text/plain": [
       "'C:\\\\Users\\\\cschu\\\\Ddrivelink\\\\congress\\\\data'"
      ]
     },
     "execution_count": 5,
     "metadata": {},
     "output_type": "execute_result"
    }
   ],
   "source": [
    "status_path = base_path+'\\\\congress\\\\data'\n",
    "status_path"
   ]
  },
  {
   "cell_type": "code",
   "execution_count": 6,
   "metadata": {},
   "outputs": [
    {
     "data": {
      "text/plain": [
       "'C:\\\\Users\\\\cschu\\\\Ddrivelink\\\\congress\\\\data\\\\113\\\\bills'"
      ]
     },
     "execution_count": 6,
     "metadata": {},
     "output_type": "execute_result"
    }
   ],
   "source": [
    "bills_113_path = status_path+'\\\\113\\\\bills'\n",
    "bills_113_path"
   ]
  },
  {
   "cell_type": "code",
   "execution_count": 54,
   "metadata": {},
   "outputs": [],
   "source": [
    "#Generate list of bill paths for each congress\n",
    "bill_paths =[]\n",
    "hr_paths = []\n",
    "s_paths = []\n",
    "for i in range(113,116):\n",
    "#     bill_paths.append(status_path+'\\\\'+str(i)+'\\\\bills')\n",
    "    hr_paths.append(status_path+'\\\\'+str(i)+'\\\\bills\\\\hr')\n",
    "    s_paths.append(status_path+'\\\\'+str(i)+'\\\\bills\\\\s')"
   ]
  },
  {
   "cell_type": "code",
   "execution_count": 61,
   "metadata": {},
   "outputs": [
    {
     "data": {
      "text/plain": [
       "['C:\\\\Users\\\\cschu\\\\Ddrivelink\\\\congress\\\\data\\\\113\\\\bills\\\\s',\n",
       " 'C:\\\\Users\\\\cschu\\\\Ddrivelink\\\\congress\\\\data\\\\114\\\\bills\\\\s',\n",
       " 'C:\\\\Users\\\\cschu\\\\Ddrivelink\\\\congress\\\\data\\\\115\\\\bills\\\\s']"
      ]
     },
     "execution_count": 61,
     "metadata": {},
     "output_type": "execute_result"
    }
   ],
   "source": [
    "s_paths"
   ]
  },
  {
   "cell_type": "code",
   "execution_count": 58,
   "metadata": {},
   "outputs": [],
   "source": [
    "#Function to traverse directory and load json file\n",
    "\n",
    "def traverse_load(paths,exclude):\n",
    "    json_list = []\n",
    "    for p in paths:\n",
    "        for root, dirs, files in os.walk(p, topdown=True):\n",
    "            dirs[:] = [d for d in dirs if d not in exclude]\n",
    "            for f in files:\n",
    "                if f.endswith('.json'):\n",
    "                    with open(root+'\\\\'+f) as j:\n",
    "                        json_list.append(json.load(j))\n",
    "    return json_list"
   ]
  },
  {
   "cell_type": "markdown",
   "metadata": {},
   "source": [
    "# Modern Bills -  Status data: House of Reps"
   ]
  },
  {
   "cell_type": "code",
   "execution_count": 59,
   "metadata": {},
   "outputs": [],
   "source": [
    "hr_status_data = traverse_load(hr_paths[:-1],set(['text-versions']))"
   ]
  },
  {
   "cell_type": "code",
   "execution_count": 60,
   "metadata": {},
   "outputs": [
    {
     "data": {
      "text/plain": [
       "12411"
      ]
     },
     "execution_count": 60,
     "metadata": {},
     "output_type": "execute_result"
    }
   ],
   "source": [
    "len(hr_status_data)"
   ]
  },
  {
   "cell_type": "code",
   "execution_count": 37,
   "metadata": {},
   "outputs": [],
   "source": [
    "#Save hr_status_data to json file\n",
    "\n",
    "with open('HR_bill_status_modern.json', 'w') as outfile:\n",
    "    json.dump(hr_status_data, outfile)"
   ]
  },
  {
   "cell_type": "markdown",
   "metadata": {},
   "source": [
    "# Modern Bills -  Status data: Senate"
   ]
  },
  {
   "cell_type": "code",
   "execution_count": 62,
   "metadata": {},
   "outputs": [],
   "source": [
    "sen_status_data = traverse_load(s_paths[:-1],set(['text-versions']))"
   ]
  },
  {
   "cell_type": "code",
   "execution_count": 63,
   "metadata": {},
   "outputs": [
    {
     "data": {
      "text/plain": [
       "6567"
      ]
     },
     "execution_count": 63,
     "metadata": {},
     "output_type": "execute_result"
    }
   ],
   "source": [
    "len(sen_status_data)"
   ]
  },
  {
   "cell_type": "code",
   "execution_count": 65,
   "metadata": {},
   "outputs": [],
   "source": [
    "#Save sen_status_data to json file\n",
    "\n",
    "with open('Sen_bill_status_modern.json', 'w') as outfile:\n",
    "    json.dump(sen_status_data, outfile)"
   ]
  },
  {
   "cell_type": "markdown",
   "metadata": {},
   "source": [
    "# Contemporary bills -  Status data: House Rep"
   ]
  },
  {
   "cell_type": "code",
   "execution_count": 66,
   "metadata": {},
   "outputs": [],
   "source": [
    "old_hr_paths = []\n",
    "old_s_paths = []\n",
    "for i in range(107,113):\n",
    "\n",
    "    old_hr_paths.append(base_path+'\\\\Congress-ProPublica-Bill Status'+'\\\\'+str(i)+'\\\\bills\\\\hr')\n",
    "    old_s_paths.append(base_path+'\\\\Congress-ProPublica-Bill Status'+'\\\\'+str(i)+'\\\\bills\\\\s')"
   ]
  },
  {
   "cell_type": "code",
   "execution_count": 67,
   "metadata": {},
   "outputs": [
    {
     "data": {
      "text/plain": [
       "['C:\\\\Users\\\\cschu\\\\Ddrivelink\\\\Congress-ProPublica-Bill Status\\\\107\\\\bills\\\\s',\n",
       " 'C:\\\\Users\\\\cschu\\\\Ddrivelink\\\\Congress-ProPublica-Bill Status\\\\108\\\\bills\\\\s',\n",
       " 'C:\\\\Users\\\\cschu\\\\Ddrivelink\\\\Congress-ProPublica-Bill Status\\\\109\\\\bills\\\\s',\n",
       " 'C:\\\\Users\\\\cschu\\\\Ddrivelink\\\\Congress-ProPublica-Bill Status\\\\110\\\\bills\\\\s',\n",
       " 'C:\\\\Users\\\\cschu\\\\Ddrivelink\\\\Congress-ProPublica-Bill Status\\\\111\\\\bills\\\\s',\n",
       " 'C:\\\\Users\\\\cschu\\\\Ddrivelink\\\\Congress-ProPublica-Bill Status\\\\112\\\\bills\\\\s']"
      ]
     },
     "execution_count": 67,
     "metadata": {},
     "output_type": "execute_result"
    }
   ],
   "source": [
    "old_s_paths"
   ]
  },
  {
   "cell_type": "code",
   "execution_count": 68,
   "metadata": {},
   "outputs": [],
   "source": [
    "hr_status_old = traverse_load(old_hr_paths,set(['text-versions']))"
   ]
  },
  {
   "cell_type": "code",
   "execution_count": 69,
   "metadata": {},
   "outputs": [
    {
     "data": {
      "text/plain": [
       "38257"
      ]
     },
     "execution_count": 69,
     "metadata": {},
     "output_type": "execute_result"
    }
   ],
   "source": [
    "len(hr_status_old)"
   ]
  },
  {
   "cell_type": "code",
   "execution_count": 47,
   "metadata": {},
   "outputs": [],
   "source": [
    "#Save to json file\n",
    "\n",
    "with open('HR_bill_status_contemporary.json', 'w') as outfile:\n",
    "    json.dump(hr_status_old, outfile)"
   ]
  },
  {
   "cell_type": "markdown",
   "metadata": {},
   "source": [
    "# Contemporary Bills -  Status data: Senate"
   ]
  },
  {
   "cell_type": "code",
   "execution_count": 70,
   "metadata": {},
   "outputs": [],
   "source": [
    "sen_status_old = traverse_load(old_s_paths,set(['text-versions']))"
   ]
  },
  {
   "cell_type": "code",
   "execution_count": 71,
   "metadata": {},
   "outputs": [
    {
     "data": {
      "text/plain": [
       "21854"
      ]
     },
     "execution_count": 71,
     "metadata": {},
     "output_type": "execute_result"
    }
   ],
   "source": [
    "len(sen_status_old)"
   ]
  },
  {
   "cell_type": "code",
   "execution_count": 50,
   "metadata": {},
   "outputs": [],
   "source": [
    "#Save to json file\n",
    "\n",
    "with open('Sen_bill_status_contemporary.json', 'w') as outfile:\n",
    "    json.dump(sen_status_old, outfile)"
   ]
  },
  {
   "cell_type": "markdown",
   "metadata": {},
   "source": [
    "# Test bill status data: 115th Congress"
   ]
  },
  {
   "cell_type": "code",
   "execution_count": 75,
   "metadata": {},
   "outputs": [
    {
     "data": {
      "text/plain": [
       "'C:\\\\Users\\\\cschu\\\\Ddrivelink\\\\congress\\\\data\\\\115\\\\bills\\\\hr'"
      ]
     },
     "execution_count": 75,
     "metadata": {},
     "output_type": "execute_result"
    }
   ],
   "source": [
    "hr_paths[-1]"
   ]
  },
  {
   "cell_type": "code",
   "execution_count": 79,
   "metadata": {},
   "outputs": [],
   "source": [
    "#Function to traverse one folder and load json file\n",
    "\n",
    "def traverse_one(paths,exclude):\n",
    "    json_list = []\n",
    "    for root, dirs, files in os.walk(paths, topdown=True):\n",
    "        dirs[:] = [d for d in dirs if d not in exclude]\n",
    "        for f in files:\n",
    "            if f.endswith('.json'):\n",
    "                with open(root+'\\\\'+f) as j:\n",
    "                    json_list.append(json.load(j))\n",
    "    return json_list"
   ]
  },
  {
   "cell_type": "code",
   "execution_count": 81,
   "metadata": {},
   "outputs": [],
   "source": [
    "hr_115_status = traverse_one(hr_paths[-1],set(['text-versions']))"
   ]
  },
  {
   "cell_type": "code",
   "execution_count": 82,
   "metadata": {},
   "outputs": [
    {
     "data": {
      "text/plain": [
       "7108"
      ]
     },
     "execution_count": 82,
     "metadata": {},
     "output_type": "execute_result"
    }
   ],
   "source": [
    "len(hr_115_status)"
   ]
  },
  {
   "cell_type": "code",
   "execution_count": 83,
   "metadata": {},
   "outputs": [],
   "source": [
    "#Save to json file\n",
    "\n",
    "with open('HR_bill_status_115.json', 'w') as outfile:\n",
    "    json.dump(hr_115_status, outfile)"
   ]
  },
  {
   "cell_type": "code",
   "execution_count": 84,
   "metadata": {},
   "outputs": [
    {
     "data": {
      "text/plain": [
       "'C:\\\\Users\\\\cschu\\\\Ddrivelink\\\\congress\\\\data\\\\115\\\\bills\\\\s'"
      ]
     },
     "execution_count": 84,
     "metadata": {},
     "output_type": "execute_result"
    }
   ],
   "source": [
    "s_paths[-1]"
   ]
  },
  {
   "cell_type": "code",
   "execution_count": 85,
   "metadata": {},
   "outputs": [],
   "source": [
    "sen_115_status = traverse_one(s_paths[-1],set(['text-versions']))"
   ]
  },
  {
   "cell_type": "code",
   "execution_count": 86,
   "metadata": {},
   "outputs": [
    {
     "data": {
      "text/plain": [
       "3600"
      ]
     },
     "execution_count": 86,
     "metadata": {},
     "output_type": "execute_result"
    }
   ],
   "source": [
    "len(sen_115_status)"
   ]
  },
  {
   "cell_type": "code",
   "execution_count": 87,
   "metadata": {},
   "outputs": [],
   "source": [
    "#Save to json file\n",
    "\n",
    "with open('Sen_bill_status_115.json', 'w') as outfile:\n",
    "    json.dump(sen_115_status, outfile)"
   ]
  }
 ],
 "metadata": {
  "kernelspec": {
   "display_name": "Python 3",
   "language": "python",
   "name": "python3"
  },
  "language_info": {
   "codemirror_mode": {
    "name": "ipython",
    "version": 3
   },
   "file_extension": ".py",
   "mimetype": "text/x-python",
   "name": "python",
   "nbconvert_exporter": "python",
   "pygments_lexer": "ipython3",
   "version": "3.7.0"
  }
 },
 "nbformat": 4,
 "nbformat_minor": 2
}
