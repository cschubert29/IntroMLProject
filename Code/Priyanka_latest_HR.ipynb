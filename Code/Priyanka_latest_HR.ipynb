{
 "cells": [
  {
   "cell_type": "code",
   "execution_count": 28,
   "metadata": {},
   "outputs": [],
   "source": [
    "import pandas as pd\n",
    "import numpy as np\n",
    "import numpy as np\n",
    "from sklearn.tree import DecisionTreeClassifier, export_graphviz\n",
    "from sklearn.preprocessing import Imputer\n",
    "from sklearn.base import TransformerMixin\n",
    "from sklearn import preprocessing\n",
    "from sklearn.preprocessing import LabelEncoder\n",
    "from sklearn.pipeline import Pipeline\n",
    "from sklearn import svm\n",
    "from sklearn.ensemble import RandomForestClassifier\n",
    "from imblearn.metrics import classification_report_imbalanced"
   ]
  },
  {
   "cell_type": "code",
   "execution_count": 29,
   "metadata": {},
   "outputs": [],
   "source": [
    "#Reading data files\n",
    "path = r'C:\\Users\\az9826\\Desktop\\Machine_learning'\n",
    "filename_hr1 = path+'\\\\'+'HR_bill_status_contemporary.json'\n",
    "filename_hr2 = path+'\\\\'+'HR_bill_status_modern.json'\n",
    "f_hm = path+'\\\\'+'Majority Party Chairmanships - House.csv'\n",
    "f_lc = path+'\\\\'+'legislators-current.csv'\n",
    "f_lh = path+'\\\\'+'legislators-historical.csv'"
   ]
  },
  {
   "cell_type": "code",
   "execution_count": 30,
   "metadata": {},
   "outputs": [],
   "source": [
    "#Getting the details about the congress and which party was in majority for that bill\n",
    "df_hm = pd.read_csv(f_hm)\n",
    "df_hm = df_hm[['Congress', 'MajParty']]\n",
    "df_hm = df_hm.drop_duplicates()"
   ]
  },
  {
   "cell_type": "code",
   "execution_count": 31,
   "metadata": {},
   "outputs": [],
   "source": [
    "#Data preprocessing : fetching sponsors name and to which party they belong from legislators historical table\n",
    "#There was a seperate fiel for full name in the data but the data was ambegiuous, therefore create the full name using the \n",
    "#other two fields present that is first name and last name\n",
    "#keeping only those records where party type is rep that is house of representatives \n",
    "#And keeping only those records where party is either Republican or Democrat sinced there were many other parties as well \n",
    "# but these two are of our interest \n",
    "df_lc = pd.read_csv(f_lc)\n",
    "df_lh = pd.read_csv(f_lh)\n",
    "df_lh['full_name'] = df_lh['last_name'].fillna('')+', '+df_lh['first_name'].fillna('')\n",
    "df_lh = df_lh[df_lh['type'] == 'rep']\n",
    "df_lh = df_lh[['full_name', 'party']]\n",
    "party = [\"Republican\", \"Democrat\"]\n",
    "df_lh = df_lh[df_lh['party'].isin(party)]"
   ]
  },
  {
   "cell_type": "code",
   "execution_count": 32,
   "metadata": {},
   "outputs": [
    {
     "name": "stderr",
     "output_type": "stream",
     "text": [
      "C:\\Users\\az9826\\AppData\\Local\\Continuum\\anaconda3\\lib\\site-packages\\pandas\\core\\frame.py:6201: FutureWarning: Sorting because non-concatenation axis is not aligned. A future version\n",
      "of pandas will change to not sort by default.\n",
      "\n",
      "To accept the future behavior, pass 'sort=True'.\n",
      "\n",
      "To retain the current behavior and silence the warning, pass sort=False\n",
      "\n",
      "  sort=sort)\n"
     ]
    }
   ],
   "source": [
    "#Appending the two senate files because we have collected the data from two different sources\n",
    "df_hr1 = pd.read_json(filename_hr1)\n",
    "df_hr2 = pd.read_json(filename_hr2)\n",
    "df_hr = df_hr1.append(df_hr2, ignore_index=True)\n",
    "df_hr = df_hr.fillna(np.nan)\n"
   ]
  },
  {
   "cell_type": "code",
   "execution_count": 33,
   "metadata": {},
   "outputs": [],
   "source": [
    "# normalizingand scaling the data by creating flags \n",
    "#if there is any data in the cosponsor field taht is any non missing value make the flag 1 else 0 \n",
    "#if there is non missing value in the field amendments make the flag 1 else 0\n",
    "#if there is non missing value in the field  popular_title make the flag 1 else 0\n",
    "#if there is non missing value in the field  related_bills make the flag 1 else 0\n",
    "# creating full name for the sponsor , keeping only first and last name\n",
    "df_hr['cosponsor_flg'] = np.where(df_hr['cosponsors'].apply(len)==0, 0, 1)\n",
    "df_hr['amendments_flg'] = np.where(df_hr['amendments'].apply(len)==0, 0, 1)\n",
    "df_hr['popular_flg'] = np.where(df_hr['popular_title'].isnull(), 0, 1)\n",
    "df_hr['related_bills_flg'] = np.where(df_hr['related_bills'].apply(len)==0, 0, 1)\n",
    "df_hr['sponsor_nm'] = [d.get('name') for d in df_hr.sponsor]\n",
    "df_hr['full_name'] = df_hr['sponsor_nm'].str.split(' ',expand = True)[0]+' '+df_hr['sponsor_nm'].str.split(' ',expand = True)[1] \n",
    "df_hr['Congress'] = pd.to_numeric(df_hr['congress'], errors='coerce')"
   ]
  },
  {
   "cell_type": "code",
   "execution_count": 36,
   "metadata": {},
   "outputs": [],
   "source": [
    "#merging files on sponsor names and congress\n",
    "\n",
    "df_hr1 = pd.merge(df_hr, df_lh, how='inner', on=['full_name'])\n",
    "df_hr2 = pd.merge(df_hr1, df_hm, how='inner', on=['Congress'])\n",
    "\n",
    "df_hr2 = df_hr2[df_hr2['party'].isin(party)]\n",
    "df_hr2['party_flg'] = np.where(df_hr2['party'] == \"Republican\", 0, 1)\n",
    "df_hr2['majority_flg'] = np.where(df_hr2['MajParty'] == \"R\", 0, 1)\n",
    "#statuses = [\"PASSED:BILL\", \"ENACTED:SIGNED\"]\n",
    "statuses = [\"PASSED:BILL\", \"ENACTED:SIGNED\", \"REPORTED\", \"PROV_KILL:SUSPENSIONFAILED\", \"PROV_KILL:CLOTUREFAILED\",\n",
    "           \"FAIL:ORIGINATING:HOUSE\", \"PASSED:SIMPLERES\", \"PASSED:CONSTAMEND\", \"PASS_OVER:HOUSE\", \"PASSED:CONCURRENTRES\",\n",
    "           \"FAIL:SECOND:HOUSE\", \"PASS_BACK:HOUSE\", \"PROV_KILL:PINGPONGFAIL\", \"CONFERENCE:PASSED:HOUSE\", \"PROV_KILL:VETO\",\n",
    "           \"VETOED:POCKET\",\"VETOED:OVERRIDE_FAIL_ORIGINATING:SENATE\",\"VETOED:OVERRIDE_FAIL_ORIGINATING:HOUSE\", \"VETOED:OVERRIDE_PASS_OVER:HOUSE\",\n",
    "           \"ENACTED:VETO_OVERRIDE\", \"ENACTED:TENDAYRULE\"]\n",
    "df_hr2['Class'] = np.where(df_hr2['status'].isin(statuses), 1, 0)\n"
   ]
  },
  {
   "cell_type": "code",
   "execution_count": 37,
   "metadata": {},
   "outputs": [],
   "source": [
    "#Final Feature selection\n",
    "#our class field is Status\n",
    "df_hr = df_hr2[['bill_id', 'cosponsor_flg','amendments_flg', 'popular_flg', 'related_bills_flg', 'party_flg', 'majority_flg', 'Class']]\n",
    "df_hr = df_hr.reset_index(drop = True)\n"
   ]
  },
  {
   "cell_type": "code",
   "execution_count": 38,
   "metadata": {},
   "outputs": [],
   "source": [
    "#taking 80% training datafeatures = list(df_hr.columns[1:7])\n",
    "features = list(df_hr.columns[1:7])\n",
    "traindatasize = int(len(df_hr)*.8)\n",
    "testdatasize = len(df_hr) - traindatasize"
   ]
  },
  {
   "cell_type": "code",
   "execution_count": 39,
   "metadata": {},
   "outputs": [],
   "source": [
    "#assigning data for tarining and test\n",
    "traindata = df_hr[0:traindatasize]\n",
    "testdata = df_hr[traindatasize:len(df_hr)+1]\n",
    "\n",
    "\n",
    "df2 = traindata\n",
    "y_train = df2[\"Class\"]\n",
    "X_train = df2[features]\n",
    "\n",
    "df3 = testdata\n",
    "y_test = df3[\"Class\"]\n",
    "X_test = df3[features]"
   ]
  },
  {
   "cell_type": "code",
   "execution_count": 40,
   "metadata": {},
   "outputs": [
    {
     "data": {
      "text/plain": [
       "0.8866472545757071"
      ]
     },
     "execution_count": 40,
     "metadata": {},
     "output_type": "execute_result"
    }
   ],
   "source": [
    "#applying random forest \n",
    "rf = RandomForestClassifier(n_estimators=100, max_depth=2, random_state=0)\n",
    "rf.fit(X_train, y_train)\n",
    "y_predicted_rf = rf.predict(X_test)\n",
    "y_score_rf = rf.score(X_test,y_test)\n",
    "\n",
    "y_score_rf"
   ]
  },
  {
   "cell_type": "code",
   "execution_count": 41,
   "metadata": {},
   "outputs": [
    {
     "data": {
      "text/plain": [
       "0.8864392678868552"
      ]
     },
     "execution_count": 41,
     "metadata": {},
     "output_type": "execute_result"
    }
   ],
   "source": [
    "#applying decision tree\n",
    "dt = DecisionTreeClassifier()\n",
    "dt.fit(X_train, y_train)\n",
    "y_predicted = dt.predict(X_test)\n",
    "y_score = dt.score(X_test,y_test)\n",
    "\n",
    "y_score"
   ]
  },
  {
   "cell_type": "code",
   "execution_count": 42,
   "metadata": {},
   "outputs": [
    {
     "data": {
      "text/plain": [
       "0.8866472545757071"
      ]
     },
     "execution_count": 42,
     "metadata": {},
     "output_type": "execute_result"
    }
   ],
   "source": [
    "#applying SVM\n",
    "d_svm = svm.SVC()\n",
    "d_svm.fit(X_train, y_train)\n",
    "y_predicted_svm = d_svm.predict(X_test)\n",
    "y_score_svm = d_svm.score(X_test,y_test)\n",
    "\n",
    "y_score_svm"
   ]
  },
  {
   "cell_type": "code",
   "execution_count": null,
   "metadata": {},
   "outputs": [],
   "source": []
  }
 ],
 "metadata": {
  "kernelspec": {
   "display_name": "Python 3",
   "language": "python",
   "name": "python3"
  },
  "language_info": {
   "codemirror_mode": {
    "name": "ipython",
    "version": 3
   },
   "file_extension": ".py",
   "mimetype": "text/x-python",
   "name": "python",
   "nbconvert_exporter": "python",
   "pygments_lexer": "ipython3",
   "version": "3.6.5"
  }
 },
 "nbformat": 4,
 "nbformat_minor": 2
}
