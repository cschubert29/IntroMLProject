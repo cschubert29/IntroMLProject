{
 "cells": [
  {
   "cell_type": "code",
   "execution_count": 8,
   "metadata": {},
   "outputs": [],
   "source": [
    "#Imports\n",
    "import os\n",
    "import sys\n",
    "import json\n",
    "from html.parser import HTMLParser\n",
    "import glob\n",
    "import zipfile\n",
    "from bs4 import BeautifulSoup\n",
    "import re"
   ]
  },
  {
   "cell_type": "code",
   "execution_count": 12,
   "metadata": {},
   "outputs": [
    {
     "data": {
      "text/plain": [
       "'C:\\\\Users\\\\cschu\\\\Ddrivelink\\\\IntroMLProject\\\\Code'"
      ]
     },
     "execution_count": 12,
     "metadata": {},
     "output_type": "execute_result"
    }
   ],
   "source": [
    "os.path.abspath(os.curdir)"
   ]
  },
  {
   "cell_type": "code",
   "execution_count": 16,
   "metadata": {},
   "outputs": [],
   "source": [
    "os.chdir('../../congress/data')"
   ]
  },
  {
   "cell_type": "code",
   "execution_count": 18,
   "metadata": {},
   "outputs": [],
   "source": [
    "text_path = os.path.abspath(os.curdir)"
   ]
  },
  {
   "cell_type": "code",
   "execution_count": 20,
   "metadata": {},
   "outputs": [],
   "source": [
    "#Generate list of bill paths for each congress\n",
    "hr_paths = []\n",
    "s_paths = []\n",
    "for i in range(107,116):\n",
    "    hr_paths.append(text_path+'\\\\'+str(i)+'\\\\bills\\\\hr')\n",
    "    s_paths.append(text_path+'\\\\'+str(i)+'\\\\bills\\\\s')"
   ]
  },
  {
   "cell_type": "code",
   "execution_count": 21,
   "metadata": {},
   "outputs": [
    {
     "data": {
      "text/plain": [
       "['C:\\\\Users\\\\cschu\\\\Ddrivelink\\\\congress\\\\data\\\\107\\\\bills\\\\s',\n",
       " 'C:\\\\Users\\\\cschu\\\\Ddrivelink\\\\congress\\\\data\\\\108\\\\bills\\\\s',\n",
       " 'C:\\\\Users\\\\cschu\\\\Ddrivelink\\\\congress\\\\data\\\\109\\\\bills\\\\s',\n",
       " 'C:\\\\Users\\\\cschu\\\\Ddrivelink\\\\congress\\\\data\\\\110\\\\bills\\\\s',\n",
       " 'C:\\\\Users\\\\cschu\\\\Ddrivelink\\\\congress\\\\data\\\\111\\\\bills\\\\s',\n",
       " 'C:\\\\Users\\\\cschu\\\\Ddrivelink\\\\congress\\\\data\\\\112\\\\bills\\\\s',\n",
       " 'C:\\\\Users\\\\cschu\\\\Ddrivelink\\\\congress\\\\data\\\\113\\\\bills\\\\s',\n",
       " 'C:\\\\Users\\\\cschu\\\\Ddrivelink\\\\congress\\\\data\\\\114\\\\bills\\\\s',\n",
       " 'C:\\\\Users\\\\cschu\\\\Ddrivelink\\\\congress\\\\data\\\\115\\\\bills\\\\s']"
      ]
     },
     "execution_count": 21,
     "metadata": {},
     "output_type": "execute_result"
    }
   ],
   "source": [
    "s_paths"
   ]
  },
  {
   "cell_type": "markdown",
   "metadata": {},
   "source": [
    "# Unzip compressed folders with bill text versions"
   ]
  },
  {
   "cell_type": "code",
   "execution_count": 22,
   "metadata": {},
   "outputs": [],
   "source": [
    "#Only use original version of bill\n",
    "#Currently don't know how to obtain latest bill text version"
   ]
  },
  {
   "cell_type": "code",
   "execution_count": 23,
   "metadata": {},
   "outputs": [],
   "source": [
    "#Function to create list of zip folders\n",
    "def create_zip_folders(path,version_type):\n",
    "    zip_folders=[]\n",
    "    for p in path:\n",
    "        zip_folders.append(glob.glob(p+'/**/text-versions/'+version_type+'/package.zip', recursive=True))\n",
    "    \n",
    "    #Flatten list of lists\n",
    "    zip_folders=[item for sublist in zip_folders for item in sublist]\n",
    "    \n",
    "    return zip_folders"
   ]
  },
  {
   "cell_type": "code",
   "execution_count": 24,
   "metadata": {},
   "outputs": [],
   "source": [
    "#Function to unzip bill text folder for specific version\n",
    "\n",
    "def unzip_text_folder(zip_folders):\n",
    "    for f in zip_folders:\n",
    "        extract_path = f.replace('\\\\package.zip','')\n",
    "        with zipfile.ZipFile(f,\"r\") as zip_ref:\n",
    "            zip_ref.extractall(extract_path)\n",
    "    "
   ]
  },
  {
   "cell_type": "code",
   "execution_count": 25,
   "metadata": {},
   "outputs": [],
   "source": [
    "#Folders needed to unzip\n",
    "sen_zip_folders = create_zip_folders(s_paths,'is')\n",
    "hr_zip_folders = create_zip_folders(hr_paths,'ih')"
   ]
  },
  {
   "cell_type": "code",
   "execution_count": 26,
   "metadata": {},
   "outputs": [],
   "source": [
    "#Unzip text folders\n",
    "#Senate\n",
    "unzip_text_folder(sen_zip_folders)\n",
    "\n",
    "#House\n",
    "unzip_text_folder(hr_zip_folders)"
   ]
  },
  {
   "cell_type": "markdown",
   "metadata": {},
   "source": [
    "# Parse HTM files into dictionary\n",
    "***"
   ]
  },
  {
   "cell_type": "code",
   "execution_count": 27,
   "metadata": {},
   "outputs": [],
   "source": [
    "def bs4_process(s):\n",
    "    soup = BeautifulSoup(open(s))\n",
    "    # kill all script and style elements\n",
    "    for script in soup([\"script\", \"style\"]):\n",
    "        script.extract()    # rip it out\n",
    "    # get text\n",
    "    text = soup.get_text()\n",
    "    # break into lines and remove leading and trailing space on each\n",
    "    lines = (line.strip() for line in text.splitlines())\n",
    "    # break multi-headlines into a line each\n",
    "    chunks = (phrase.strip() for line in lines for phrase in line.split(\"  \"))\n",
    "    # drop blank lines\n",
    "    text = ' '.join(chunk for chunk in chunks if chunk)\n",
    "    #Remove everything before 'A BILL'\n",
    "    text = text.split('A BILL')[1]\n",
    "    \n",
    "    #Remove <all>\n",
    "    text = text.split('<all>')[0]\n",
    "\n",
    "    #Remove characters using regex\n",
    "    #Remove ` character (does not need to be replaced by a space)\n",
    "    text1 = re.sub('`', '', text)\n",
    "    #Remove -- character (need to be replaced by a space)\n",
    "    text2 = re.sub('-{2}', ' ', text1)\n",
    "    \n",
    "    #Define patterns\n",
    "    #'\\([^\\d]{1}\\)' = single non-number character inside parentheses\n",
    "    #'\\((\\d+)\\)' = numbers 1 or more inside parentheses\n",
    "    #'[\\(MDCLXVI]+\\)' = roman numerals inside parentheses\n",
    "    text3 = re.sub('\\([^\\d]{1}\\)|\\((\\d+)\\)|[\\(MDCLXVI]+\\)', '', text2, flags=re.IGNORECASE)\n",
    "    \n",
    "    #Lowercase\n",
    "    text3 = text3.lower()\n",
    "    return text3"
   ]
  },
  {
   "cell_type": "code",
   "execution_count": 28,
   "metadata": {},
   "outputs": [],
   "source": [
    "#version codes to exclude\n",
    "version_codes=['as', 'ash', 'ath', 'ats', 'cdh', 'cds', 'cph', 'cps', 'eah', 'eas', 'eh', 'eph', 'enr',\n",
    "               'es', 'fah', 'fph', 'fps', 'hdh', 'hds', 'iph', 'ips', 'lth', 'lts','oph', 'ops', 'pav',\n",
    "               'pch', 'pcs', 'pp', 'pap', 'pwah', 'rah', 'ras', 'rch', 'rcs', 'rdh', 'rds', 'reah', 'res',\n",
    "               'renr', 'rfh', 'rfs', 'rh', 'rih', 'ris', 'rs', 'rth', 'rts', 'sas', 'sc']\n",
    "\n",
    "#bill formats to exclude\n",
    "formats=['pdf','xml']\n",
    "\n",
    "#final exclude list\n",
    "exclude_list = version_codes+formats"
   ]
  },
  {
   "cell_type": "code",
   "execution_count": 29,
   "metadata": {},
   "outputs": [],
   "source": [
    "#Function to traverse directory and load jHTM file\n",
    "\n",
    "def load_htm(paths):\n",
    "    text_dict={}\n",
    "    exclude=set(exclude_list) #make sure all version codes are in here\n",
    "    if len(paths)\n",
    "    for p in paths:\n",
    "        for root, dirs, files in os.walk(p, topdown=True):\n",
    "            dirs[:] = [d for d in dirs if d not in exclude]\n",
    "            for f in files:\n",
    "                if f.endswith('.htm'):\n",
    "                    try:\n",
    "                        t = bs4_process(root+'\\\\'+f)\n",
    "                        k = re.search('BILLS-(.+?)\\\\\\\\html', root).group(1)\n",
    "                        text_dict.update({k:t})\n",
    "                    except IndexError:\n",
    "                        print('Bill text is corrupted or incomplete.')\n",
    "                        pass\n",
    "                    \n",
    "\n",
    "    return text_dict"
   ]
  },
  {
   "cell_type": "markdown",
   "metadata": {},
   "source": [
    "## Senate 107-114th Congress"
   ]
  },
  {
   "cell_type": "code",
   "execution_count": 30,
   "metadata": {},
   "outputs": [
    {
     "name": "stdout",
     "output_type": "stream",
     "text": [
      "Bill text is corrupted or incomplete.\n",
      "Bill text is corrupted or incomplete.\n",
      "Bill text is corrupted or incomplete.\n",
      "Bill text is corrupted or incomplete.\n"
     ]
    }
   ],
   "source": [
    "senate107_114 = load_htm(s_paths[:-1])"
   ]
  },
  {
   "cell_type": "code",
   "execution_count": 31,
   "metadata": {},
   "outputs": [
    {
     "data": {
      "text/plain": [
       "27198"
      ]
     },
     "execution_count": 31,
     "metadata": {},
     "output_type": "execute_result"
    }
   ],
   "source": [
    "len(senate107_114)"
   ]
  },
  {
   "cell_type": "code",
   "execution_count": 34,
   "metadata": {},
   "outputs": [],
   "source": [
    "os.chdir('../../IntroMLProject/Data')"
   ]
  },
  {
   "cell_type": "code",
   "execution_count": 37,
   "metadata": {},
   "outputs": [],
   "source": [
    "#Save to json file\n",
    "\n",
    "with open('./107th-112th Congress/Bill text/Sen_text_to_114.json', 'w') as outfile:\n",
    "    json.dump(senate107_114, outfile)\n"
   ]
  },
  {
   "cell_type": "markdown",
   "metadata": {},
   "source": [
    "## House 107-114th Congress"
   ]
  },
  {
   "cell_type": "code",
   "execution_count": 38,
   "metadata": {},
   "outputs": [
    {
     "name": "stdout",
     "output_type": "stream",
     "text": [
      "Bill text is corrupted or incomplete.\n",
      "Bill text is corrupted or incomplete.\n",
      "Bill text is corrupted or incomplete.\n",
      "Bill text is corrupted or incomplete.\n",
      "Bill text is corrupted or incomplete.\n"
     ]
    }
   ],
   "source": [
    "HR107_114 = load_htm(hr_paths[:-1])"
   ]
  },
  {
   "cell_type": "code",
   "execution_count": 39,
   "metadata": {},
   "outputs": [
    {
     "data": {
      "text/plain": [
       "50367"
      ]
     },
     "execution_count": 39,
     "metadata": {},
     "output_type": "execute_result"
    }
   ],
   "source": [
    "len(HR107_114)"
   ]
  },
  {
   "cell_type": "code",
   "execution_count": 40,
   "metadata": {},
   "outputs": [],
   "source": [
    "#Save to json file\n",
    "\n",
    "with open('./107th-112th Congress/Bill text/HR_text_to_114.json', 'w') as outfile:\n",
    "    json.dump(HR107_114, outfile)"
   ]
  },
  {
   "cell_type": "markdown",
   "metadata": {},
   "source": [
    "## Testing data: 115th Congress"
   ]
  },
  {
   "cell_type": "code",
   "execution_count": 51,
   "metadata": {},
   "outputs": [],
   "source": [
    "senate_115 = load_htm([s_paths[-1]])"
   ]
  },
  {
   "cell_type": "code",
   "execution_count": 53,
   "metadata": {},
   "outputs": [
    {
     "name": "stdout",
     "output_type": "stream",
     "text": [
      "Bill text is corrupted or incomplete.\n"
     ]
    }
   ],
   "source": [
    "HR_115 = load_htm([hr_paths[-1]])"
   ]
  },
  {
   "cell_type": "code",
   "execution_count": 54,
   "metadata": {},
   "outputs": [],
   "source": [
    "with open('./Testing data 115th Congress/Bill text/senate_115.json', 'w') as outfile:\n",
    "    json.dump(senate_115, outfile)"
   ]
  },
  {
   "cell_type": "code",
   "execution_count": 55,
   "metadata": {},
   "outputs": [],
   "source": [
    "with open('./Testing data 115th Congress/Bill text/HR_115.json', 'w') as outfile:\n",
    "    json.dump(HR_115, outfile)"
   ]
  },
  {
   "cell_type": "code",
   "execution_count": null,
   "metadata": {},
   "outputs": [],
   "source": []
  }
 ],
 "metadata": {
  "kernelspec": {
   "display_name": "Python 3",
   "language": "python",
   "name": "python3"
  },
  "language_info": {
   "codemirror_mode": {
    "name": "ipython",
    "version": 3
   },
   "file_extension": ".py",
   "mimetype": "text/x-python",
   "name": "python",
   "nbconvert_exporter": "python",
   "pygments_lexer": "ipython3",
   "version": "3.7.0"
  }
 },
 "nbformat": 4,
 "nbformat_minor": 2
}
