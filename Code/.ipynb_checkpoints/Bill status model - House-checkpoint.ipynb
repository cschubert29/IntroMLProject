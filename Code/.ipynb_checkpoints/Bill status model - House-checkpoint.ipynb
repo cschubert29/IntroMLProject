{
 "cells": [
  {
   "cell_type": "code",
   "execution_count": 31,
   "metadata": {},
   "outputs": [],
   "source": [
    "#Imports\n",
    "import pandas as pd\n",
    "import numpy as np\n",
    "import numpy as np\n",
    "from sklearn.tree import DecisionTreeClassifier, export_graphviz\n",
    "from sklearn.preprocessing import Imputer\n",
    "from sklearn.base import TransformerMixin\n",
    "from sklearn import preprocessing\n",
    "from sklearn.preprocessing import LabelEncoder\n",
    "from sklearn.pipeline import Pipeline\n",
    "from sklearn import svm\n",
    "from sklearn.ensemble import RandomForestClassifier\n",
    "from imblearn.metrics import classification_report_imbalanced\n",
    "from sklearn.metrics import accuracy_score, confusion_matrix, roc_curve\n",
    "import matplotlib.pyplot as plt\n",
    "from sklearn import metrics"
   ]
  },
  {
   "cell_type": "code",
   "execution_count": 32,
   "metadata": {},
   "outputs": [],
   "source": [
    "#Reading data files\n",
    "path = r'..\\Data'\n",
    "filename_hr1 = path+'\\\\107th-112th Congress\\\\Bill status\\\\'+'HR_bill_status_contemporary.json'\n",
    "filename_hr2 = path+'\\\\113th-114th Congress\\\\Bill status\\\\'+'HR_bill_status_modern.json'\n",
    "f_hm = '..\\\\'+'Majority Party Chairmanships - House.csv'\n",
    "f_lc = path+'\\\\'+'legislators-current.csv'\n",
    "f_lh = path+'\\\\'+'legislators-historical.csv'"
   ]
  },
  {
   "cell_type": "code",
   "execution_count": 33,
   "metadata": {},
   "outputs": [],
   "source": [
    "#Getting the details about the congress and which party was in majority for that bill\n",
    "df_hm = pd.read_csv(f_hm)\n",
    "df_hm = df_hm[['Congress', 'MajParty']]\n",
    "df_hm = df_hm.drop_duplicates()"
   ]
  },
  {
   "cell_type": "code",
   "execution_count": 34,
   "metadata": {},
   "outputs": [
    {
     "data": {
      "text/html": [
       "<div>\n",
       "<style scoped>\n",
       "    .dataframe tbody tr th:only-of-type {\n",
       "        vertical-align: middle;\n",
       "    }\n",
       "\n",
       "    .dataframe tbody tr th {\n",
       "        vertical-align: top;\n",
       "    }\n",
       "\n",
       "    .dataframe thead th {\n",
       "        text-align: right;\n",
       "    }\n",
       "</style>\n",
       "<table border=\"1\" class=\"dataframe\">\n",
       "  <thead>\n",
       "    <tr style=\"text-align: right;\">\n",
       "      <th></th>\n",
       "      <th>Congress</th>\n",
       "      <th>MajParty</th>\n",
       "    </tr>\n",
       "  </thead>\n",
       "  <tbody>\n",
       "    <tr>\n",
       "      <th>0</th>\n",
       "      <td>84</td>\n",
       "      <td>D</td>\n",
       "    </tr>\n",
       "    <tr>\n",
       "      <th>1</th>\n",
       "      <td>90</td>\n",
       "      <td>D</td>\n",
       "    </tr>\n",
       "    <tr>\n",
       "      <th>2</th>\n",
       "      <td>92</td>\n",
       "      <td>D</td>\n",
       "    </tr>\n",
       "    <tr>\n",
       "      <th>3</th>\n",
       "      <td>94</td>\n",
       "      <td>D</td>\n",
       "    </tr>\n",
       "    <tr>\n",
       "      <th>4</th>\n",
       "      <td>96</td>\n",
       "      <td>D</td>\n",
       "    </tr>\n",
       "  </tbody>\n",
       "</table>\n",
       "</div>"
      ],
      "text/plain": [
       "   Congress MajParty\n",
       "0        84        D\n",
       "1        90        D\n",
       "2        92        D\n",
       "3        94        D\n",
       "4        96        D"
      ]
     },
     "execution_count": 34,
     "metadata": {},
     "output_type": "execute_result"
    }
   ],
   "source": [
    "df_hm.head()"
   ]
  },
  {
   "cell_type": "code",
   "execution_count": 35,
   "metadata": {},
   "outputs": [],
   "source": [
    "#Data preprocessing : fetching sponsors name and to which party they belong from legislators historical table\n",
    "#There was a seperate fiel for full name in the data but the data was ambegiuous, therefore create the full name using the \n",
    "#other two fields present that is first name and last name\n",
    "#keeping only those records where party type is rep that is house of representatives \n",
    "#And keeping only those records where party is either Republican or Democrat sinced there were many other parties as well \n",
    "# but these two are of our interest \n",
    "df_lc = pd.read_csv(f_lc)\n",
    "df_lh = pd.read_csv(f_lh)\n",
    "df_lh['full_name'] = df_lh['last_name'].fillna('')+', '+df_lh['first_name'].fillna('')\n",
    "df_lh = df_lh[df_lh['type'] == 'rep']\n",
    "df_lh = df_lh[['full_name', 'party']]\n",
    "party = [\"Republican\", \"Democrat\"]\n",
    "df_lh = df_lh[df_lh['party'].isin(party)]"
   ]
  },
  {
   "cell_type": "code",
   "execution_count": 36,
   "metadata": {},
   "outputs": [
    {
     "name": "stderr",
     "output_type": "stream",
     "text": [
      "C:\\Users\\cschu\\Anaconda3\\lib\\site-packages\\pandas\\core\\frame.py:6211: FutureWarning: Sorting because non-concatenation axis is not aligned. A future version\n",
      "of pandas will change to not sort by default.\n",
      "\n",
      "To accept the future behavior, pass 'sort=False'.\n",
      "\n",
      "To retain the current behavior and silence the warning, pass 'sort=True'.\n",
      "\n",
      "  sort=sort)\n"
     ]
    }
   ],
   "source": [
    "#Appending the two senate files because we have collected the data from two different sources\n",
    "df_hr1 = pd.read_json(filename_hr1)\n",
    "df_hr2 = pd.read_json(filename_hr2)\n",
    "df_hr = df_hr1.append(df_hr2, ignore_index=True)\n",
    "df_hr = df_hr.fillna(np.nan)\n"
   ]
  },
  {
   "cell_type": "code",
   "execution_count": 37,
   "metadata": {
    "scrolled": true
   },
   "outputs": [
    {
     "data": {
      "text/html": [
       "<div>\n",
       "<style scoped>\n",
       "    .dataframe tbody tr th:only-of-type {\n",
       "        vertical-align: middle;\n",
       "    }\n",
       "\n",
       "    .dataframe tbody tr th {\n",
       "        vertical-align: top;\n",
       "    }\n",
       "\n",
       "    .dataframe thead th {\n",
       "        text-align: right;\n",
       "    }\n",
       "</style>\n",
       "<table border=\"1\" class=\"dataframe\">\n",
       "  <thead>\n",
       "    <tr style=\"text-align: right;\">\n",
       "      <th></th>\n",
       "      <th>actions</th>\n",
       "      <th>amendments</th>\n",
       "      <th>bill_id</th>\n",
       "      <th>bill_type</th>\n",
       "      <th>by_request</th>\n",
       "      <th>committee_reports</th>\n",
       "      <th>committees</th>\n",
       "      <th>congress</th>\n",
       "      <th>cosponsors</th>\n",
       "      <th>enacted_as</th>\n",
       "      <th>...</th>\n",
       "      <th>short_title</th>\n",
       "      <th>sponsor</th>\n",
       "      <th>status</th>\n",
       "      <th>status_at</th>\n",
       "      <th>subjects</th>\n",
       "      <th>subjects_top_term</th>\n",
       "      <th>summary</th>\n",
       "      <th>titles</th>\n",
       "      <th>updated_at</th>\n",
       "      <th>url</th>\n",
       "    </tr>\n",
       "  </thead>\n",
       "  <tbody>\n",
       "    <tr>\n",
       "      <th>0</th>\n",
       "      <td>[{'acted_at': '2001-03-23', 'committee': 'Hous...</td>\n",
       "      <td>[{'amendment_id': 'h43-107', 'amendment_type':...</td>\n",
       "      <td>hr1-107</td>\n",
       "      <td>hr</td>\n",
       "      <td>NaN</td>\n",
       "      <td>NaN</td>\n",
       "      <td>[{'activity': ['referral', 'hearings', 'markup...</td>\n",
       "      <td>107</td>\n",
       "      <td>[{'district': '26', 'name': 'Armey, Richard K....</td>\n",
       "      <td>{'congress': '107', 'law_type': 'public', 'num...</td>\n",
       "      <td>...</td>\n",
       "      <td>No Child Left Behind Act of 2001</td>\n",
       "      <td>{'district': '8', 'name': 'Boehner, John A.', ...</td>\n",
       "      <td>ENACTED:SIGNED</td>\n",
       "      <td>2002-01-08 00:00:00</td>\n",
       "      <td>[AIDS (Disease), Academic performance, Accredi...</td>\n",
       "      <td>Education</td>\n",
       "      <td>{'as': 'Conference report filed in House', 'da...</td>\n",
       "      <td>[{'as': None, 'title': 'Elementary and Seconda...</td>\n",
       "      <td>2013-02-03 01:48:02</td>\n",
       "      <td>NaN</td>\n",
       "    </tr>\n",
       "    <tr>\n",
       "      <th>1</th>\n",
       "      <td>[{'acted_at': '2001-03-14', 'committee': 'Comm...</td>\n",
       "      <td>[{'amendment_id': 'h28-107', 'amendment_type':...</td>\n",
       "      <td>hr10-107</td>\n",
       "      <td>hr</td>\n",
       "      <td>NaN</td>\n",
       "      <td>NaN</td>\n",
       "      <td>[{'activity': ['referral', 'markup', 'reportin...</td>\n",
       "      <td>107</td>\n",
       "      <td>[{'district': '1', 'name': 'Abercrombie, Neil'...</td>\n",
       "      <td>{'congress': '107', 'law_type': 'public', 'num...</td>\n",
       "      <td>...</td>\n",
       "      <td>Railroad Retirement and Survivors' Improvement...</td>\n",
       "      <td>{'district': '2', 'name': 'Portman, Rob', 'sta...</td>\n",
       "      <td>ENACTED:SIGNED</td>\n",
       "      <td>2001-12-21 00:00:00</td>\n",
       "      <td>[Accidents, Accounting, Actions and defenses, ...</td>\n",
       "      <td>Labor and employment</td>\n",
       "      <td>{'as': 'Passed Senate amended', 'date': '2001-...</td>\n",
       "      <td>[{'as': None, 'title': 'Pension Reform bill', ...</td>\n",
       "      <td>2013-02-03 01:48:03</td>\n",
       "      <td>NaN</td>\n",
       "    </tr>\n",
       "    <tr>\n",
       "      <th>2</th>\n",
       "      <td>[{'acted_at': '2001-01-03', 'committee': 'Comm...</td>\n",
       "      <td>[]</td>\n",
       "      <td>hr100-107</td>\n",
       "      <td>hr</td>\n",
       "      <td>NaN</td>\n",
       "      <td>NaN</td>\n",
       "      <td>[{'activity': ['referral', 'markup', 'reportin...</td>\n",
       "      <td>107</td>\n",
       "      <td>[{'district': '1', 'name': 'Allen, Thomas H.',...</td>\n",
       "      <td>NaN</td>\n",
       "      <td>...</td>\n",
       "      <td>National Science Education Act</td>\n",
       "      <td>{'district': '3', 'name': 'Ehlers, Vernon J.',...</td>\n",
       "      <td>PASS_OVER:HOUSE</td>\n",
       "      <td>2001-07-30 19:49:00</td>\n",
       "      <td>[Academic performance, Computer literacy, Comp...</td>\n",
       "      <td>Education</td>\n",
       "      <td>{'as': 'Passed House amended', 'date': '2001-0...</td>\n",
       "      <td>[{'as': 'introduced', 'title': 'National Scien...</td>\n",
       "      <td>2013-02-03 01:48:06</td>\n",
       "      <td>NaN</td>\n",
       "    </tr>\n",
       "    <tr>\n",
       "      <th>3</th>\n",
       "      <td>[{'acted_at': '2001-03-13', 'committee': 'Hous...</td>\n",
       "      <td>[]</td>\n",
       "      <td>hr1000-107</td>\n",
       "      <td>hr</td>\n",
       "      <td>NaN</td>\n",
       "      <td>NaN</td>\n",
       "      <td>[{'activity': ['referral', 'markup', 'reportin...</td>\n",
       "      <td>107</td>\n",
       "      <td>[{'district': '1', 'name': 'Chabot, Steve', 's...</td>\n",
       "      <td>{'congress': '107', 'law_type': 'public', 'num...</td>\n",
       "      <td>...</td>\n",
       "      <td>William Howard Taft National Historic Site Bou...</td>\n",
       "      <td>{'district': '2', 'name': 'Portman, Rob', 'sta...</td>\n",
       "      <td>ENACTED:SIGNED</td>\n",
       "      <td>2001-11-05 00:00:00</td>\n",
       "      <td>[Boundaries, Commemorations, Ex-presidents, Go...</td>\n",
       "      <td>Public lands and natural resources</td>\n",
       "      <td>{'as': 'Passed House amended', 'date': '2001-0...</td>\n",
       "      <td>[{'as': 'introduced', 'title': 'William Howard...</td>\n",
       "      <td>2013-02-03 01:48:33</td>\n",
       "      <td>NaN</td>\n",
       "    </tr>\n",
       "    <tr>\n",
       "      <th>4</th>\n",
       "      <td>[{'acted_at': '2001-03-13', 'references': [{'r...</td>\n",
       "      <td>[]</td>\n",
       "      <td>hr1001-107</td>\n",
       "      <td>hr</td>\n",
       "      <td>NaN</td>\n",
       "      <td>NaN</td>\n",
       "      <td>[{'activity': ['referral', 'in committee'], 'c...</td>\n",
       "      <td>107</td>\n",
       "      <td>[{'district': '9', 'name': 'Boucher, Rick', 's...</td>\n",
       "      <td>NaN</td>\n",
       "      <td>...</td>\n",
       "      <td>NaN</td>\n",
       "      <td>{'district': '3', 'name': 'Rahall, Nick J., II...</td>\n",
       "      <td>REFERRED</td>\n",
       "      <td>2001-03-13 00:00:00</td>\n",
       "      <td>[Collection of accounts, Estates (Law), Health...</td>\n",
       "      <td>Health</td>\n",
       "      <td>{'as': 'Introduced', 'date': '2001-03-13', 'te...</td>\n",
       "      <td>[{'as': 'introduced', 'title': 'To amend title...</td>\n",
       "      <td>2013-02-03 01:48:33</td>\n",
       "      <td>NaN</td>\n",
       "    </tr>\n",
       "  </tbody>\n",
       "</table>\n",
       "<p>5 rows × 26 columns</p>\n",
       "</div>"
      ],
      "text/plain": [
       "                                             actions  \\\n",
       "0  [{'acted_at': '2001-03-23', 'committee': 'Hous...   \n",
       "1  [{'acted_at': '2001-03-14', 'committee': 'Comm...   \n",
       "2  [{'acted_at': '2001-01-03', 'committee': 'Comm...   \n",
       "3  [{'acted_at': '2001-03-13', 'committee': 'Hous...   \n",
       "4  [{'acted_at': '2001-03-13', 'references': [{'r...   \n",
       "\n",
       "                                          amendments     bill_id bill_type  \\\n",
       "0  [{'amendment_id': 'h43-107', 'amendment_type':...     hr1-107        hr   \n",
       "1  [{'amendment_id': 'h28-107', 'amendment_type':...    hr10-107        hr   \n",
       "2                                                 []   hr100-107        hr   \n",
       "3                                                 []  hr1000-107        hr   \n",
       "4                                                 []  hr1001-107        hr   \n",
       "\n",
       "  by_request committee_reports  \\\n",
       "0        NaN               NaN   \n",
       "1        NaN               NaN   \n",
       "2        NaN               NaN   \n",
       "3        NaN               NaN   \n",
       "4        NaN               NaN   \n",
       "\n",
       "                                          committees  congress  \\\n",
       "0  [{'activity': ['referral', 'hearings', 'markup...       107   \n",
       "1  [{'activity': ['referral', 'markup', 'reportin...       107   \n",
       "2  [{'activity': ['referral', 'markup', 'reportin...       107   \n",
       "3  [{'activity': ['referral', 'markup', 'reportin...       107   \n",
       "4  [{'activity': ['referral', 'in committee'], 'c...       107   \n",
       "\n",
       "                                          cosponsors  \\\n",
       "0  [{'district': '26', 'name': 'Armey, Richard K....   \n",
       "1  [{'district': '1', 'name': 'Abercrombie, Neil'...   \n",
       "2  [{'district': '1', 'name': 'Allen, Thomas H.',...   \n",
       "3  [{'district': '1', 'name': 'Chabot, Steve', 's...   \n",
       "4  [{'district': '9', 'name': 'Boucher, Rick', 's...   \n",
       "\n",
       "                                          enacted_as ...   \\\n",
       "0  {'congress': '107', 'law_type': 'public', 'num... ...    \n",
       "1  {'congress': '107', 'law_type': 'public', 'num... ...    \n",
       "2                                                NaN ...    \n",
       "3  {'congress': '107', 'law_type': 'public', 'num... ...    \n",
       "4                                                NaN ...    \n",
       "\n",
       "                                         short_title  \\\n",
       "0                   No Child Left Behind Act of 2001   \n",
       "1  Railroad Retirement and Survivors' Improvement...   \n",
       "2                     National Science Education Act   \n",
       "3  William Howard Taft National Historic Site Bou...   \n",
       "4                                                NaN   \n",
       "\n",
       "                                             sponsor           status  \\\n",
       "0  {'district': '8', 'name': 'Boehner, John A.', ...   ENACTED:SIGNED   \n",
       "1  {'district': '2', 'name': 'Portman, Rob', 'sta...   ENACTED:SIGNED   \n",
       "2  {'district': '3', 'name': 'Ehlers, Vernon J.',...  PASS_OVER:HOUSE   \n",
       "3  {'district': '2', 'name': 'Portman, Rob', 'sta...   ENACTED:SIGNED   \n",
       "4  {'district': '3', 'name': 'Rahall, Nick J., II...         REFERRED   \n",
       "\n",
       "            status_at                                           subjects  \\\n",
       "0 2002-01-08 00:00:00  [AIDS (Disease), Academic performance, Accredi...   \n",
       "1 2001-12-21 00:00:00  [Accidents, Accounting, Actions and defenses, ...   \n",
       "2 2001-07-30 19:49:00  [Academic performance, Computer literacy, Comp...   \n",
       "3 2001-11-05 00:00:00  [Boundaries, Commemorations, Ex-presidents, Go...   \n",
       "4 2001-03-13 00:00:00  [Collection of accounts, Estates (Law), Health...   \n",
       "\n",
       "                    subjects_top_term  \\\n",
       "0                           Education   \n",
       "1                Labor and employment   \n",
       "2                           Education   \n",
       "3  Public lands and natural resources   \n",
       "4                              Health   \n",
       "\n",
       "                                             summary  \\\n",
       "0  {'as': 'Conference report filed in House', 'da...   \n",
       "1  {'as': 'Passed Senate amended', 'date': '2001-...   \n",
       "2  {'as': 'Passed House amended', 'date': '2001-0...   \n",
       "3  {'as': 'Passed House amended', 'date': '2001-0...   \n",
       "4  {'as': 'Introduced', 'date': '2001-03-13', 'te...   \n",
       "\n",
       "                                              titles          updated_at  url  \n",
       "0  [{'as': None, 'title': 'Elementary and Seconda... 2013-02-03 01:48:02  NaN  \n",
       "1  [{'as': None, 'title': 'Pension Reform bill', ... 2013-02-03 01:48:03  NaN  \n",
       "2  [{'as': 'introduced', 'title': 'National Scien... 2013-02-03 01:48:06  NaN  \n",
       "3  [{'as': 'introduced', 'title': 'William Howard... 2013-02-03 01:48:33  NaN  \n",
       "4  [{'as': 'introduced', 'title': 'To amend title... 2013-02-03 01:48:33  NaN  \n",
       "\n",
       "[5 rows x 26 columns]"
      ]
     },
     "execution_count": 37,
     "metadata": {},
     "output_type": "execute_result"
    }
   ],
   "source": [
    "df_hr.head()"
   ]
  },
  {
   "cell_type": "code",
   "execution_count": 38,
   "metadata": {},
   "outputs": [],
   "source": [
    "# normalizingand scaling the data by creating flags \n",
    "#if there is any data in the cosponsor field taht is any non missing value make the flag 1 else 0 \n",
    "#if there is non missing value in the field amendments make the flag 1 else 0\n",
    "#if there is non missing value in the field  popular_title make the flag 1 else 0\n",
    "#if there is non missing value in the field  related_bills make the flag 1 else 0\n",
    "# creating full name for the sponsor , keeping only first and last name\n",
    "df_hr['cosponsor_flg'] = np.where(df_hr['cosponsors'].apply(len)==0, 0, 1)\n",
    "df_hr['amendments_flg'] = np.where(df_hr['amendments'].apply(len)==0, 0, 1)\n",
    "df_hr['popular_flg'] = np.where(df_hr['popular_title'].isnull(), 0, 1)\n",
    "df_hr['related_bills_flg'] = np.where(df_hr['related_bills'].apply(len)==0, 0, 1)\n",
    "df_hr['sponsor_nm'] = [d.get('name') for d in df_hr.sponsor]\n",
    "df_hr['full_name'] = df_hr['sponsor_nm'].str.split(' ',expand = True)[0]+' '+df_hr['sponsor_nm'].str.split(' ',expand = True)[1] \n",
    "df_hr['Congress'] = pd.to_numeric(df_hr['congress'], errors='coerce')"
   ]
  },
  {
   "cell_type": "code",
   "execution_count": 39,
   "metadata": {},
   "outputs": [],
   "source": [
    "#merging files on sponsor names and congress\n",
    "\n",
    "df_hr1 = pd.merge(df_hr, df_lh, how='inner', on=['full_name'])\n",
    "df_hr2 = pd.merge(df_hr1, df_hm, how='inner', on=['Congress'])\n",
    "\n",
    "df_hr2 = df_hr2[df_hr2['party'].isin(party)]\n",
    "df_hr2['party_flg'] = np.where(df_hr2['party'] == \"Republican\", 0, 1)\n",
    "df_hr2['majority_flg'] = np.where(df_hr2['MajParty'] == \"R\", 0, 1)\n",
    "\n",
    "statuses = ['INTRODUCED','REFERRED']\n",
    "df_hr2['Class'] = np.where(df_hr2['status'].isin(statuses), 0, 1)\n"
   ]
  },
  {
   "cell_type": "code",
   "execution_count": 40,
   "metadata": {},
   "outputs": [],
   "source": [
    "#Final Feature selection\n",
    "#our class field is Status\n",
    "df_hr = df_hr2[['bill_id', 'cosponsor_flg','amendments_flg', 'popular_flg', 'related_bills_flg', 'party_flg', 'majority_flg', 'Class']]\n",
    "df_hr = df_hr.reset_index(drop = True)\n"
   ]
  },
  {
   "cell_type": "code",
   "execution_count": 41,
   "metadata": {},
   "outputs": [],
   "source": [
    "#taking 80% training datafeatures = list(df_hr.columns[1:7])\n",
    "features = list(df_hr.columns[1:7])\n",
    "traindatasize = int(len(df_hr)*.8)\n",
    "testdatasize = len(df_hr) - traindatasize"
   ]
  },
  {
   "cell_type": "code",
   "execution_count": 42,
   "metadata": {},
   "outputs": [],
   "source": [
    "#assigning data for tarining and test\n",
    "traindata = df_hr[0:traindatasize]\n",
    "testdata = df_hr[traindatasize:len(df_hr)+1]\n",
    "\n",
    "\n",
    "df2 = traindata\n",
    "y_train = df2[\"Class\"]\n",
    "X_train = df2[features]\n",
    "\n",
    "df3 = testdata\n",
    "y_test = df3[\"Class\"]\n",
    "X_test = df3[features]"
   ]
  },
  {
   "cell_type": "markdown",
   "metadata": {},
   "source": [
    "# Random Forest\n",
    "***"
   ]
  },
  {
   "cell_type": "code",
   "execution_count": 43,
   "metadata": {},
   "outputs": [
    {
     "data": {
      "text/plain": [
       "0.8868552412645591"
      ]
     },
     "execution_count": 43,
     "metadata": {},
     "output_type": "execute_result"
    }
   ],
   "source": [
    "#applying random forest \n",
    "rf = RandomForestClassifier(n_estimators=100, max_depth=2, random_state=0)\n",
    "rf.fit(X_train, y_train)\n",
    "y_predicted_rf = rf.predict(X_test)\n",
    "y_score_rf = rf.score(X_test,y_test)\n",
    "\n",
    "y_score_rf"
   ]
  },
  {
   "cell_type": "code",
   "execution_count": 44,
   "metadata": {},
   "outputs": [
    {
     "name": "stdout",
     "output_type": "stream",
     "text": [
      "                   pre       rec       spe        f1       geo       iba       sup\n",
      "\n",
      "          0       0.88      1.00      0.16      0.94      0.41      0.18      4157\n",
      "          1       1.00      0.16      1.00      0.28      0.41      0.15       651\n",
      "\n",
      "avg / total       0.90      0.89      0.28      0.85      0.41      0.17      4808\n",
      "\n"
     ]
    }
   ],
   "source": [
    "#Classification report\n",
    "print(classification_report_imbalanced(y_test, y_predicted_rf))"
   ]
  },
  {
   "cell_type": "code",
   "execution_count": 45,
   "metadata": {},
   "outputs": [
    {
     "name": "stdout",
     "output_type": "stream",
     "text": [
      "[[4157    0]\n",
      " [ 544  107]]\n"
     ]
    }
   ],
   "source": [
    "#Confusion matrix\n",
    "print(confusion_matrix(y_test, y_predicted_rf))"
   ]
  },
  {
   "cell_type": "code",
   "execution_count": 46,
   "metadata": {},
   "outputs": [
    {
     "data": {
      "image/png": "[encoded data removed]",
      "text/plain": [
       "<Figure size 432x288 with 1 Axes>"
      ]
     },
     "metadata": {
      "needs_background": "light"
     },
     "output_type": "display_data"
    }
   ],
   "source": [
    "#ROC curve\n",
    "\n",
    "\n",
    "# calculate the fpr and tpr for all thresholds of the classification\n",
    "fpr, tpr, threshold = metrics.roc_curve(y_test, y_predicted_rf)\n",
    "roc_auc = metrics.auc(fpr, tpr)\n",
    "\n",
    "plt.title('Receiver Operating Characteristic')\n",
    "plt.plot(fpr, tpr, 'b', label = 'AUC = %0.2f' % roc_auc)\n",
    "plt.legend(loc = 'lower right')\n",
    "plt.plot([0, 1], [0, 1],'r--')\n",
    "plt.xlim([0, 1])\n",
    "plt.ylim([0, 1])\n",
    "plt.ylabel('True Positive Rate')\n",
    "plt.xlabel('False Positive Rate')\n",
    "plt.show()"
   ]
  },
  {
   "cell_type": "markdown",
   "metadata": {},
   "source": [
    "# Decision Tree\n",
    "***"
   ]
  },
  {
   "cell_type": "code",
   "execution_count": 47,
   "metadata": {},
   "outputs": [
    {
     "data": {
      "text/plain": [
       "0.8868552412645591"
      ]
     },
     "execution_count": 47,
     "metadata": {},
     "output_type": "execute_result"
    }
   ],
   "source": [
    "#applying decision tree\n",
    "dt = DecisionTreeClassifier()\n",
    "dt.fit(X_train, y_train)\n",
    "y_predicted = dt.predict(X_test)\n",
    "y_score = dt.score(X_test,y_test)\n",
    "\n",
    "y_score"
   ]
  },
  {
   "cell_type": "code",
   "execution_count": 48,
   "metadata": {},
   "outputs": [
    {
     "name": "stdout",
     "output_type": "stream",
     "text": [
      "                   pre       rec       spe        f1       geo       iba       sup\n",
      "\n",
      "          0       0.88      1.00      0.16      0.94      0.41      0.18      4157\n",
      "          1       1.00      0.16      1.00      0.28      0.41      0.15       651\n",
      "\n",
      "avg / total       0.90      0.89      0.28      0.85      0.41      0.17      4808\n",
      "\n"
     ]
    }
   ],
   "source": [
    "#Classification report\n",
    "print(classification_report_imbalanced(y_test, y_predicted))\n"
   ]
  },
  {
   "cell_type": "code",
   "execution_count": 49,
   "metadata": {},
   "outputs": [
    {
     "name": "stdout",
     "output_type": "stream",
     "text": [
      "[[4157    0]\n",
      " [ 544  107]]\n"
     ]
    }
   ],
   "source": [
    "#Confusion matrix\n",
    "print(confusion_matrix(y_test, y_predicted))"
   ]
  },
  {
   "cell_type": "code",
   "execution_count": 50,
   "metadata": {},
   "outputs": [
    {
     "data": {
      "image/png": "[encoded data removed]",
      "text/plain": [
       "<Figure size 432x288 with 1 Axes>"
      ]
     },
     "metadata": {
      "needs_background": "light"
     },
     "output_type": "display_data"
    }
   ],
   "source": [
    "#ROC curve\n",
    "\n",
    "\n",
    "# calculate the fpr and tpr for all thresholds of the classification\n",
    "fpr, tpr, threshold = metrics.roc_curve(y_test, y_predicted)\n",
    "roc_auc = metrics.auc(fpr, tpr)\n",
    "\n",
    "plt.title('Receiver Operating Characteristic')\n",
    "plt.plot(fpr, tpr, 'b', label = 'AUC = %0.2f' % roc_auc)\n",
    "plt.legend(loc = 'lower right')\n",
    "plt.plot([0, 1], [0, 1],'r--')\n",
    "plt.xlim([0, 1])\n",
    "plt.ylim([0, 1])\n",
    "plt.ylabel('True Positive Rate')\n",
    "plt.xlabel('False Positive Rate')\n",
    "plt.show()"
   ]
  },
  {
   "cell_type": "markdown",
   "metadata": {},
   "source": [
    "# SVM\n",
    "***"
   ]
  },
  {
   "cell_type": "code",
   "execution_count": 51,
   "metadata": {},
   "outputs": [
    {
     "name": "stderr",
     "output_type": "stream",
     "text": [
      "C:\\Users\\cschu\\Anaconda3\\lib\\site-packages\\sklearn\\svm\\base.py:196: FutureWarning: The default value of gamma will change from 'auto' to 'scale' in version 0.22 to account better for unscaled features. Set gamma explicitly to 'auto' or 'scale' to avoid this warning.\n",
      "  \"avoid this warning.\", FutureWarning)\n"
     ]
    },
    {
     "data": {
      "text/plain": [
       "0.8868552412645591"
      ]
     },
     "execution_count": 51,
     "metadata": {},
     "output_type": "execute_result"
    }
   ],
   "source": [
    "#applying SVM\n",
    "d_svm = svm.SVC()\n",
    "d_svm.fit(X_train, y_train)\n",
    "y_predicted_svm = d_svm.predict(X_test)\n",
    "y_score_svm = d_svm.score(X_test,y_test)\n",
    "\n",
    "y_score_svm"
   ]
  },
  {
   "cell_type": "code",
   "execution_count": 52,
   "metadata": {},
   "outputs": [
    {
     "name": "stdout",
     "output_type": "stream",
     "text": [
      "                   pre       rec       spe        f1       geo       iba       sup\n",
      "\n",
      "          0       0.88      1.00      0.16      0.94      0.41      0.18      4157\n",
      "          1       1.00      0.16      1.00      0.28      0.41      0.15       651\n",
      "\n",
      "avg / total       0.90      0.89      0.28      0.85      0.41      0.17      4808\n",
      "\n"
     ]
    }
   ],
   "source": [
    "#Classification report\n",
    "print(classification_report_imbalanced(y_test, y_predicted_svm))\n"
   ]
  },
  {
   "cell_type": "code",
   "execution_count": 53,
   "metadata": {},
   "outputs": [
    {
     "name": "stdout",
     "output_type": "stream",
     "text": [
      "[[4157    0]\n",
      " [ 544  107]]\n"
     ]
    }
   ],
   "source": [
    "#Confusion matrix\n",
    "print(confusion_matrix(y_test, y_predicted_svm))"
   ]
  },
  {
   "cell_type": "code",
   "execution_count": 54,
   "metadata": {},
   "outputs": [
    {
     "data": {
      "image/png": "[encoded data removed]",
      "text/plain": [
       "<Figure size 432x288 with 1 Axes>"
      ]
     },
     "metadata": {
      "needs_background": "light"
     },
     "output_type": "display_data"
    }
   ],
   "source": [
    "#ROC curve\n",
    "\n",
    "\n",
    "# calculate the fpr and tpr for all thresholds of the classification\n",
    "fpr, tpr, threshold = metrics.roc_curve(y_test, y_predicted_svm)\n",
    "roc_auc = metrics.auc(fpr, tpr)\n",
    "\n",
    "plt.title('Receiver Operating Characteristic')\n",
    "plt.plot(fpr, tpr, 'b', label = 'AUC = %0.2f' % roc_auc)\n",
    "plt.legend(loc = 'lower right')\n",
    "plt.plot([0, 1], [0, 1],'r--')\n",
    "plt.xlim([0, 1])\n",
    "plt.ylim([0, 1])\n",
    "plt.ylabel('True Positive Rate')\n",
    "plt.xlabel('False Positive Rate')\n",
    "plt.show()"
   ]
  },
  {
   "cell_type": "code",
   "execution_count": 57,
   "metadata": {},
   "outputs": [],
   "source": [
    "#converting data into csv for visualization \n",
    "df_hr.to_csv(path+'hr_viz.csv')"
   ]
  }
 ],
 "metadata": {
  "kernelspec": {
   "display_name": "Python 3",
   "language": "python",
   "name": "python3"
  },
  "language_info": {
   "codemirror_mode": {
    "name": "ipython",
    "version": 3
   },
   "file_extension": ".py",
   "mimetype": "text/x-python",
   "name": "python",
   "nbconvert_exporter": "python",
   "pygments_lexer": "ipython3",
   "version": "3.7.0"
  }
 },
 "nbformat": 4,
 "nbformat_minor": 2
}
