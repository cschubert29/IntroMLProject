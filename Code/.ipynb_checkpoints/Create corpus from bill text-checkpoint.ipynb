{
 "cells": [
  {
   "cell_type": "code",
   "execution_count": 1,
   "metadata": {},
   "outputs": [
    {
     "name": "stderr",
     "output_type": "stream",
     "text": [
      "C:\\Users\\cschu\\Anaconda3\\lib\\site-packages\\gensim\\utils.py:1197: UserWarning: detected Windows; aliasing chunkize to chunkize_serial\n",
      "  warnings.warn(\"detected Windows; aliasing chunkize to chunkize_serial\")\n"
     ]
    }
   ],
   "source": [
    "#Imports\n",
    "import numpy as np\n",
    "import pandas as pd\n",
    "import json\n",
    "import re\n",
    "from sklearn.model_selection import StratifiedShuffleSplit\n",
    "from nltk.corpus import stopwords\n",
    "\n",
    "from gensim.models import TfidfModel\n",
    "from gensim.corpora import Dictionary\n",
    "from gensim.utils import simple_preprocess\n",
    "from gensim import corpora"
   ]
  },
  {
   "cell_type": "code",
   "execution_count": 2,
   "metadata": {},
   "outputs": [],
   "source": [
    "#Load bill status data to obtain the status\n",
    "\n",
    "with open('..\\\\Data\\\\107th-112th Congress\\\\Bill status\\\\HR_bill_status_contemporary.json') as f:\n",
    "    HR_data1= json.load(f)\n",
    "\n",
    "with open('..\\\\Data\\\\107th-112th Congress\\\\Bill status\\\\Sen_bill_status_contemporary.json') as f:\n",
    "    Sen_data1= json.load(f)\n",
    "    \n",
    "with open('..\\\\Data\\\\113th-114th Congress\\\\Bill status\\\\HR_bill_status_modern.json') as f:\n",
    "    HR_data2= json.load(f)\n",
    "\n",
    "with open('..\\\\Data\\\\113th-114th Congress\\\\Bill status\\\\Sen_bill_status_modern.json') as f:\n",
    "    Sen_data2= json.load(f)    \n",
    "    "
   ]
  },
  {
   "cell_type": "code",
   "execution_count": 3,
   "metadata": {},
   "outputs": [],
   "source": [
    "def extract_id_status(bill_list):\n",
    "    v = {}\n",
    "    for b in bill_list:\n",
    "        v.update({b['bill_id']:b['status']})\n",
    "    return v"
   ]
  },
  {
   "cell_type": "code",
   "execution_count": 4,
   "metadata": {},
   "outputs": [],
   "source": [
    "#Bill id and status\n",
    "\n",
    "d1 = extract_id_status(HR_data1)\n",
    "d2 = extract_id_status(Sen_data1)\n",
    "d3 = extract_id_status(HR_data2)\n",
    "d4 = extract_id_status(Sen_data2)\n",
    "\n",
    "#Concatenate dictionaries into one\n",
    "status_dict = {}\n",
    "for d in (d1,d2,d3,d4):\n",
    "    status_dict.update(d)"
   ]
  },
  {
   "cell_type": "code",
   "execution_count": 5,
   "metadata": {},
   "outputs": [],
   "source": [
    "#Create dataframe from status_dict\n",
    "status_df = pd.DataFrame.from_dict(status_dict,orient='index',columns=['Bill Status']).reset_index(level=0)"
   ]
  },
  {
   "cell_type": "code",
   "execution_count": 6,
   "metadata": {},
   "outputs": [
    {
     "data": {
      "text/html": [
       "<div>\n",
       "<style scoped>\n",
       "    .dataframe tbody tr th:only-of-type {\n",
       "        vertical-align: middle;\n",
       "    }\n",
       "\n",
       "    .dataframe tbody tr th {\n",
       "        vertical-align: top;\n",
       "    }\n",
       "\n",
       "    .dataframe thead th {\n",
       "        text-align: right;\n",
       "    }\n",
       "</style>\n",
       "<table border=\"1\" class=\"dataframe\">\n",
       "  <thead>\n",
       "    <tr style=\"text-align: right;\">\n",
       "      <th></th>\n",
       "      <th>index</th>\n",
       "      <th>Bill Status</th>\n",
       "    </tr>\n",
       "  </thead>\n",
       "  <tbody>\n",
       "    <tr>\n",
       "      <th>0</th>\n",
       "      <td>hr1-107</td>\n",
       "      <td>ENACTED:SIGNED</td>\n",
       "    </tr>\n",
       "    <tr>\n",
       "      <th>1</th>\n",
       "      <td>hr10-107</td>\n",
       "      <td>ENACTED:SIGNED</td>\n",
       "    </tr>\n",
       "    <tr>\n",
       "      <th>2</th>\n",
       "      <td>hr100-107</td>\n",
       "      <td>PASS_OVER:HOUSE</td>\n",
       "    </tr>\n",
       "    <tr>\n",
       "      <th>3</th>\n",
       "      <td>hr1000-107</td>\n",
       "      <td>ENACTED:SIGNED</td>\n",
       "    </tr>\n",
       "    <tr>\n",
       "      <th>4</th>\n",
       "      <td>hr1001-107</td>\n",
       "      <td>REFERRED</td>\n",
       "    </tr>\n",
       "  </tbody>\n",
       "</table>\n",
       "</div>"
      ],
      "text/plain": [
       "        index      Bill Status\n",
       "0     hr1-107   ENACTED:SIGNED\n",
       "1    hr10-107   ENACTED:SIGNED\n",
       "2   hr100-107  PASS_OVER:HOUSE\n",
       "3  hr1000-107   ENACTED:SIGNED\n",
       "4  hr1001-107         REFERRED"
      ]
     },
     "execution_count": 6,
     "metadata": {},
     "output_type": "execute_result"
    }
   ],
   "source": [
    "status_df.head()"
   ]
  },
  {
   "cell_type": "code",
   "execution_count": 7,
   "metadata": {},
   "outputs": [],
   "source": [
    "#Map status values to binary\n",
    "\n",
    "#Once a Congress adjourn at the end of its two-year cycle, all bills that have been introduced in either\n",
    "#the House or the Senate that have not made it through the entire legislative process and signed into law are dead.\n",
    "\n",
    "#dictionary which specifies status value to binary\n",
    "#0 = did not pass in originating chamber (firs pass)\n",
    "#1 = did pass in originating chamber (first pass)\n",
    "#survive committee in the originating chamber (doing this for more class balance)\n",
    "\n",
    "status_binary_dict = {\n",
    "    'INTRODUCED':0,\n",
    "    'REFERRED':0,\n",
    "    'REPORTED':1,\n",
    "    'PROV_KILL:SUSPENSIONFAILED':1,\n",
    "    'PROV_KILL:CLOTUREFAILED':1,\n",
    "    'FAIL:ORIGINATING:HOUSE':1,\n",
    "    'FAIL:ORIGINATING:SENATE':1,\n",
    "    'PASSED:SIMPLERES':1,\n",
    "    'PASSED:CONSTAMEND':1,\n",
    "    'PASS_OVER:HOUSE':1,\n",
    "    'PASS_OVER:SENATE':1,\n",
    "    'PASSED:CONCURRENTRES':1,\n",
    "    'FAIL:SECOND:HOUSE':1,\n",
    "    'FAIL:SECOND:SENATE':1,\n",
    "    'PASS_BACK:HOUSE':1,\n",
    "    'PASS_BACK:SENATE':1,\n",
    "    'PROV_KILL:PINGPONGFAIL':1,\n",
    "    'PASSED:BILL':1,\n",
    "    'CONFERENCE:PASSED:HOUSE':1,\n",
    "    'CONFERENCE:PASSED:SENATE':1,\n",
    "    'ENACTED:SIGNED':1,\n",
    "    'PROV_KILL:VETO':1,\n",
    "    'VETOED:POCKET':1,\n",
    "    'VETOED:OVERRIDE_FAIL_ORIGINATING:HOUSE':1,\n",
    "    'VETOED:OVERRIDE_FAIL_ORIGINATING:SENATE':1,\n",
    "    'VETOED:OVERRIDE_PASS_OVER:HOUSE':1,\n",
    "    'VETOED:OVERRIDE_PASS_OVER:SENATE':1,\n",
    "    'VETOED:OVERRIDE_FAIL_SECOND:HOUSE':1,\n",
    "    'VETOED:OVERRIDE_FAIL_SECOND:SENATE':1,\n",
    "    'ENACTED:VETO_OVERRIDE':1,\n",
    "    'ENACTED:TENDAYRULE':1,\n",
    "    \n",
    "}\n"
   ]
  },
  {
   "cell_type": "code",
   "execution_count": 8,
   "metadata": {},
   "outputs": [],
   "source": [
    "#Use status_binary_dict to map values in dataframe\n",
    "status_df[\"Bill Status\"].replace(status_binary_dict, inplace=True)"
   ]
  },
  {
   "cell_type": "code",
   "execution_count": 9,
   "metadata": {},
   "outputs": [
    {
     "data": {
      "text/html": [
       "<div>\n",
       "<style scoped>\n",
       "    .dataframe tbody tr th:only-of-type {\n",
       "        vertical-align: middle;\n",
       "    }\n",
       "\n",
       "    .dataframe tbody tr th {\n",
       "        vertical-align: top;\n",
       "    }\n",
       "\n",
       "    .dataframe thead th {\n",
       "        text-align: right;\n",
       "    }\n",
       "</style>\n",
       "<table border=\"1\" class=\"dataframe\">\n",
       "  <thead>\n",
       "    <tr style=\"text-align: right;\">\n",
       "      <th></th>\n",
       "      <th>index</th>\n",
       "      <th>Bill Status</th>\n",
       "    </tr>\n",
       "  </thead>\n",
       "  <tbody>\n",
       "    <tr>\n",
       "      <th>0</th>\n",
       "      <td>hr1-107</td>\n",
       "      <td>1</td>\n",
       "    </tr>\n",
       "    <tr>\n",
       "      <th>1</th>\n",
       "      <td>hr10-107</td>\n",
       "      <td>1</td>\n",
       "    </tr>\n",
       "    <tr>\n",
       "      <th>2</th>\n",
       "      <td>hr100-107</td>\n",
       "      <td>1</td>\n",
       "    </tr>\n",
       "    <tr>\n",
       "      <th>3</th>\n",
       "      <td>hr1000-107</td>\n",
       "      <td>1</td>\n",
       "    </tr>\n",
       "    <tr>\n",
       "      <th>4</th>\n",
       "      <td>hr1001-107</td>\n",
       "      <td>0</td>\n",
       "    </tr>\n",
       "  </tbody>\n",
       "</table>\n",
       "</div>"
      ],
      "text/plain": [
       "        index  Bill Status\n",
       "0     hr1-107            1\n",
       "1    hr10-107            1\n",
       "2   hr100-107            1\n",
       "3  hr1000-107            1\n",
       "4  hr1001-107            0"
      ]
     },
     "execution_count": 9,
     "metadata": {},
     "output_type": "execute_result"
    }
   ],
   "source": [
    "status_df.head()"
   ]
  },
  {
   "cell_type": "code",
   "execution_count": 10,
   "metadata": {},
   "outputs": [],
   "source": [
    "#Load bill text data\n",
    "\n",
    "with open('..\\\\Data\\\\107th-112th Congress\\\\Bill text\\\\HR_text_to_114.json') as f:\n",
    "    HR_data= json.load(f)\n",
    "    \n",
    "with open('..\\\\Data\\\\107th-112th Congress\\\\Bill text\\\\Sen_text_to_114.json') as f:\n",
    "    Sen_data= json.load(f)"
   ]
  },
  {
   "cell_type": "code",
   "execution_count": 11,
   "metadata": {},
   "outputs": [],
   "source": [
    "#Merge dicts into one\n",
    "HR_data.update(Sen_data)"
   ]
  },
  {
   "cell_type": "code",
   "execution_count": 12,
   "metadata": {},
   "outputs": [
    {
     "data": {
      "text/plain": [
       "77565"
      ]
     },
     "execution_count": 12,
     "metadata": {},
     "output_type": "execute_result"
    }
   ],
   "source": [
    "len(HR_data)"
   ]
  },
  {
   "cell_type": "code",
   "execution_count": 13,
   "metadata": {},
   "outputs": [],
   "source": [
    "#Text Preprocessing\n",
    "def clean_text(text):\n",
    "    #Remove underscores\n",
    "    text = re.sub('\\_','',text)\n",
    "    return text\n",
    "\n",
    "#Remove extended ellipses\n"
   ]
  },
  {
   "cell_type": "code",
   "execution_count": 14,
   "metadata": {},
   "outputs": [],
   "source": [
    "clean_bill_text= {k:clean_text(v) for k,v in HR_data.items()}"
   ]
  },
  {
   "cell_type": "code",
   "execution_count": 15,
   "metadata": {},
   "outputs": [],
   "source": [
    "#Read clustered data to dataframe\n",
    "text_df = pd.DataFrame.from_dict(clean_bill_text,orient='index', columns=['Text'])\n",
    "text_df.reset_index(level=0,inplace=True)"
   ]
  },
  {
   "cell_type": "code",
   "execution_count": 16,
   "metadata": {},
   "outputs": [
    {
     "data": {
      "text/html": [
       "<div>\n",
       "<style scoped>\n",
       "    .dataframe tbody tr th:only-of-type {\n",
       "        vertical-align: middle;\n",
       "    }\n",
       "\n",
       "    .dataframe tbody tr th {\n",
       "        vertical-align: top;\n",
       "    }\n",
       "\n",
       "    .dataframe thead th {\n",
       "        text-align: right;\n",
       "    }\n",
       "</style>\n",
       "<table border=\"1\" class=\"dataframe\">\n",
       "  <thead>\n",
       "    <tr style=\"text-align: right;\">\n",
       "      <th></th>\n",
       "      <th>index</th>\n",
       "      <th>Text</th>\n",
       "    </tr>\n",
       "  </thead>\n",
       "  <tbody>\n",
       "    <tr>\n",
       "      <th>0</th>\n",
       "      <td>107hr1ih</td>\n",
       "      <td>a bill to close the achievement gap with acco...</td>\n",
       "    </tr>\n",
       "    <tr>\n",
       "      <th>1</th>\n",
       "      <td>107hr10ih</td>\n",
       "      <td>to provide for pension reform, and for other ...</td>\n",
       "    </tr>\n",
       "    <tr>\n",
       "      <th>2</th>\n",
       "      <td>107hr100ih</td>\n",
       "      <td>to establish and expand programs relating to ...</td>\n",
       "    </tr>\n",
       "    <tr>\n",
       "      <th>3</th>\n",
       "      <td>107hr1000ih</td>\n",
       "      <td>to adjust the boundary of the william howard ...</td>\n",
       "    </tr>\n",
       "    <tr>\n",
       "      <th>4</th>\n",
       "      <td>107hr1001ih</td>\n",
       "      <td>to amend title xix of the social security act...</td>\n",
       "    </tr>\n",
       "  </tbody>\n",
       "</table>\n",
       "</div>"
      ],
      "text/plain": [
       "         index                                               Text\n",
       "0     107hr1ih   a bill to close the achievement gap with acco...\n",
       "1    107hr10ih   to provide for pension reform, and for other ...\n",
       "2   107hr100ih   to establish and expand programs relating to ...\n",
       "3  107hr1000ih   to adjust the boundary of the william howard ...\n",
       "4  107hr1001ih   to amend title xix of the social security act..."
      ]
     },
     "execution_count": 16,
     "metadata": {},
     "output_type": "execute_result"
    }
   ],
   "source": [
    "text_df.head()"
   ]
  },
  {
   "cell_type": "code",
   "execution_count": 17,
   "metadata": {},
   "outputs": [],
   "source": [
    "def rename_id(i):\n",
    "    j=i[:-2]\n",
    "    k = j[3:]+'-'+j[:3]\n",
    "    return k"
   ]
  },
  {
   "cell_type": "code",
   "execution_count": 18,
   "metadata": {},
   "outputs": [],
   "source": [
    "#Rename bill id from dataframe so that it matches dictionary of id and status\n",
    "\n",
    "text_df['index']=text_df['index'].apply(lambda x: rename_id(x))"
   ]
  },
  {
   "cell_type": "code",
   "execution_count": 19,
   "metadata": {},
   "outputs": [
    {
     "data": {
      "text/html": [
       "<div>\n",
       "<style scoped>\n",
       "    .dataframe tbody tr th:only-of-type {\n",
       "        vertical-align: middle;\n",
       "    }\n",
       "\n",
       "    .dataframe tbody tr th {\n",
       "        vertical-align: top;\n",
       "    }\n",
       "\n",
       "    .dataframe thead th {\n",
       "        text-align: right;\n",
       "    }\n",
       "</style>\n",
       "<table border=\"1\" class=\"dataframe\">\n",
       "  <thead>\n",
       "    <tr style=\"text-align: right;\">\n",
       "      <th></th>\n",
       "      <th>index</th>\n",
       "      <th>Text</th>\n",
       "    </tr>\n",
       "  </thead>\n",
       "  <tbody>\n",
       "    <tr>\n",
       "      <th>77560</th>\n",
       "      <td>s995-114</td>\n",
       "      <td>to establish congressional trade negotiating ...</td>\n",
       "    </tr>\n",
       "    <tr>\n",
       "      <th>77561</th>\n",
       "      <td>s996-114</td>\n",
       "      <td>to facilitate nationwide availability of volu...</td>\n",
       "    </tr>\n",
       "    <tr>\n",
       "      <th>77562</th>\n",
       "      <td>s997-114</td>\n",
       "      <td>to extend the authorization for the major med...</td>\n",
       "    </tr>\n",
       "    <tr>\n",
       "      <th>77563</th>\n",
       "      <td>s998-114</td>\n",
       "      <td>to establish a process for the consideration ...</td>\n",
       "    </tr>\n",
       "    <tr>\n",
       "      <th>77564</th>\n",
       "      <td>s999-114</td>\n",
       "      <td>to amend the small business act to provide fo...</td>\n",
       "    </tr>\n",
       "  </tbody>\n",
       "</table>\n",
       "</div>"
      ],
      "text/plain": [
       "          index                                               Text\n",
       "77560  s995-114   to establish congressional trade negotiating ...\n",
       "77561  s996-114   to facilitate nationwide availability of volu...\n",
       "77562  s997-114   to extend the authorization for the major med...\n",
       "77563  s998-114   to establish a process for the consideration ...\n",
       "77564  s999-114   to amend the small business act to provide fo..."
      ]
     },
     "execution_count": 19,
     "metadata": {},
     "output_type": "execute_result"
    }
   ],
   "source": [
    "text_df.tail()"
   ]
  },
  {
   "cell_type": "code",
   "execution_count": 20,
   "metadata": {},
   "outputs": [],
   "source": [
    "#merge datasets\n",
    "\n",
    "merged_text = pd.merge(text_df,status_df, on='index',how='inner')"
   ]
  },
  {
   "cell_type": "code",
   "execution_count": 21,
   "metadata": {},
   "outputs": [
    {
     "data": {
      "text/html": [
       "<div>\n",
       "<style scoped>\n",
       "    .dataframe tbody tr th:only-of-type {\n",
       "        vertical-align: middle;\n",
       "    }\n",
       "\n",
       "    .dataframe tbody tr th {\n",
       "        vertical-align: top;\n",
       "    }\n",
       "\n",
       "    .dataframe thead th {\n",
       "        text-align: right;\n",
       "    }\n",
       "</style>\n",
       "<table border=\"1\" class=\"dataframe\">\n",
       "  <thead>\n",
       "    <tr style=\"text-align: right;\">\n",
       "      <th></th>\n",
       "      <th>index</th>\n",
       "      <th>Text</th>\n",
       "      <th>Bill Status</th>\n",
       "    </tr>\n",
       "  </thead>\n",
       "  <tbody>\n",
       "    <tr>\n",
       "      <th>0</th>\n",
       "      <td>hr1-107</td>\n",
       "      <td>a bill to close the achievement gap with acco...</td>\n",
       "      <td>1</td>\n",
       "    </tr>\n",
       "    <tr>\n",
       "      <th>1</th>\n",
       "      <td>hr10-107</td>\n",
       "      <td>to provide for pension reform, and for other ...</td>\n",
       "      <td>1</td>\n",
       "    </tr>\n",
       "    <tr>\n",
       "      <th>2</th>\n",
       "      <td>hr100-107</td>\n",
       "      <td>to establish and expand programs relating to ...</td>\n",
       "      <td>1</td>\n",
       "    </tr>\n",
       "    <tr>\n",
       "      <th>3</th>\n",
       "      <td>hr1000-107</td>\n",
       "      <td>to adjust the boundary of the william howard ...</td>\n",
       "      <td>1</td>\n",
       "    </tr>\n",
       "    <tr>\n",
       "      <th>4</th>\n",
       "      <td>hr1001-107</td>\n",
       "      <td>to amend title xix of the social security act...</td>\n",
       "      <td>0</td>\n",
       "    </tr>\n",
       "  </tbody>\n",
       "</table>\n",
       "</div>"
      ],
      "text/plain": [
       "        index                                               Text  Bill Status\n",
       "0     hr1-107   a bill to close the achievement gap with acco...            1\n",
       "1    hr10-107   to provide for pension reform, and for other ...            1\n",
       "2   hr100-107   to establish and expand programs relating to ...            1\n",
       "3  hr1000-107   to adjust the boundary of the william howard ...            1\n",
       "4  hr1001-107   to amend title xix of the social security act...            0"
      ]
     },
     "execution_count": 21,
     "metadata": {},
     "output_type": "execute_result"
    }
   ],
   "source": [
    "merged_text.head()"
   ]
  },
  {
   "cell_type": "code",
   "execution_count": 22,
   "metadata": {},
   "outputs": [],
   "source": [
    "#Save merged text to csv\n",
    "merged_text.to_csv('../Data/Labeled bill documents.csv')"
   ]
  },
  {
   "cell_type": "code",
   "execution_count": 23,
   "metadata": {},
   "outputs": [],
   "source": [
    "# Stratified Train/Test split\n",
    "stratified_split = StratifiedShuffleSplit(n_splits=2, test_size=0.3)\n",
    "for train_index, test_index in stratified_split.split(merged_text['Text'], merged_text['Bill Status']):\n",
    "    x_train, x_test = merged_text['Text'][train_index], merged_text['Text'][test_index]\n",
    "    y_train, y_test = merged_text['Bill Status'][train_index], merged_text['Bill Status'][test_index]"
   ]
  },
  {
   "cell_type": "code",
   "execution_count": 32,
   "metadata": {},
   "outputs": [],
   "source": [
    "#Save training/test sets\n",
    "x_train.to_csv('../Data/text x_train.csv')\n",
    "x_test.to_csv('../Data/text x_test.csv')\n",
    "y_train.to_csv('../Data/text y_train.csv')\n",
    "y_test.to_csv('../Data/text y_test.csv')"
   ]
  },
  {
   "cell_type": "code",
   "execution_count": 26,
   "metadata": {},
   "outputs": [],
   "source": [
    "#get the text column \n",
    "documents=x_train.tolist()\n",
    " "
   ]
  },
  {
   "cell_type": "markdown",
   "metadata": {},
   "source": [
    "# Create a corpus\n",
    "***\n",
    "Tokenize documents and remove stop words. Then fit dictionary from token list and create corpus."
   ]
  },
  {
   "cell_type": "code",
   "execution_count": 27,
   "metadata": {},
   "outputs": [
    {
     "name": "stdout",
     "output_type": "stream",
     "text": [
      "Wall time: 1min 33s\n"
     ]
    }
   ],
   "source": [
    "%%time\n",
    "#tokenize\n",
    "tokens =[simple_preprocess(doc) for doc in documents]"
   ]
  },
  {
   "cell_type": "code",
   "execution_count": 28,
   "metadata": {},
   "outputs": [
    {
     "name": "stdout",
     "output_type": "stream",
     "text": [
      "Wall time: 7.92 s\n"
     ]
    }
   ],
   "source": [
    "%%time\n",
    "#Remove stop words\n",
    "stops=set(stopwords.words('english'))\n",
    "filt_docs = [[word for word in token if word not in stops]\n",
    "            for token in tokens]"
   ]
  },
  {
   "cell_type": "code",
   "execution_count": 29,
   "metadata": {},
   "outputs": [],
   "source": [
    "#Create dictionary\n",
    "dct = Dictionary(tokens)  # fit dictionary\n",
    "dct.save('text-train.dict')  # store the dictionary, for future reference"
   ]
  },
  {
   "cell_type": "code",
   "execution_count": 30,
   "metadata": {},
   "outputs": [
    {
     "name": "stdout",
     "output_type": "stream",
     "text": [
      "Dictionary(62347 unique tokens: ['academy', 'act', 'after', 'america', 'among']...)\n"
     ]
    }
   ],
   "source": [
    "print(dct)"
   ]
  },
  {
   "cell_type": "code",
   "execution_count": 31,
   "metadata": {},
   "outputs": [],
   "source": [
    "#Create corpus from the dictionary\n",
    "corpus = [dct.doc2bow(token) for token in tokens]\n",
    "corpora.MmCorpus.serialize('text-train-corpus.mm', corpus)  # store to disk, for later use"
   ]
  },
  {
   "cell_type": "code",
   "execution_count": null,
   "metadata": {},
   "outputs": [],
   "source": []
  }
 ],
 "metadata": {
  "kernelspec": {
   "display_name": "Python 3",
   "language": "python",
   "name": "python3"
  },
  "language_info": {
   "codemirror_mode": {
    "name": "ipython",
    "version": 3
   },
   "file_extension": ".py",
   "mimetype": "text/x-python",
   "name": "python",
   "nbconvert_exporter": "python",
   "pygments_lexer": "ipython3",
   "version": "3.7.0"
  }
 },
 "nbformat": 4,
 "nbformat_minor": 2
}
