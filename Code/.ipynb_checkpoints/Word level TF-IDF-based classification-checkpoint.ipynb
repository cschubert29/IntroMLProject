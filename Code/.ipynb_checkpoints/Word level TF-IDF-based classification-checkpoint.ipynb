{
 "cells": [
  {
   "cell_type": "code",
   "execution_count": 31,
   "metadata": {},
   "outputs": [],
   "source": [
    "import pandas as pd\n",
    "import numpy as np\n",
    "import matplotlib.pyplot as plt\n",
    "from sklearn.linear_model import LogisticRegression\n",
    "from sklearn import metrics\n",
    "from sklearn.feature_extraction.text import TfidfVectorizer\n",
    "from sklearn.metrics import classification_report\n",
    "from sklearn.random_projection import SparseRandomProjection\n",
    "\n",
    "from collections import Counter\n",
    "from sklearn.pipeline import make_pipeline\n",
    "from imblearn.under_sampling import RandomUnderSampler\n",
    "from imblearn.over_sampling import RandomOverSampler\n",
    "from imblearn.pipeline import make_pipeline as make_pipeline_imb\n",
    "from imblearn.metrics import classification_report_imbalanced"
   ]
  },
  {
   "cell_type": "code",
   "execution_count": 2,
   "metadata": {},
   "outputs": [],
   "source": [
    "#Load y_train, x_test, y_test\n",
    "x_train=pd.read_csv('../Data/text x_train.csv', usecols=range(1,2),header=None,names=['Text'])\n",
    "y_train = pd.read_csv('../Data/text y_train.csv', usecols=range(1,2),header=None,names=['Label'])\n",
    "x_test = pd.read_csv('../Data/text x_test.csv', usecols=range(1,2),header=None,names=['Text'])\n",
    "y_test = pd.read_csv('../Data/text y_test.csv', usecols=range(1,2),header=None, names=['Label'])"
   ]
  },
  {
   "cell_type": "code",
   "execution_count": 3,
   "metadata": {},
   "outputs": [
    {
     "name": "stdout",
     "output_type": "stream",
     "text": [
      "Training class distributions summary: Counter({0: 47354, 1: 6940})\n",
      "Test class distributions summary: Counter({0: 20295, 1: 2975})\n"
     ]
    }
   ],
   "source": [
    "print('Training class distributions summary: {}'.format(Counter(y_train['Label'].tolist())))\n",
    "print('Test class distributions summary: {}'.format(Counter(y_test['Label'].tolist())))"
   ]
  },
  {
   "cell_type": "markdown",
   "metadata": {},
   "source": [
    "# Bag of Words\n",
    "***"
   ]
  },
  {
   "cell_type": "markdown",
   "metadata": {},
   "source": [
    "## TF-IDF-based Logistic Regression\n",
    "Term Frequency times inverse document frequency"
   ]
  },
  {
   "cell_type": "code",
   "execution_count": 4,
   "metadata": {},
   "outputs": [
    {
     "name": "stderr",
     "output_type": "stream",
     "text": [
      "C:\\Users\\cschu\\Anaconda3\\lib\\site-packages\\sklearn\\linear_model\\logistic.py:433: FutureWarning: Default solver will be changed to 'lbfgs' in 0.22. Specify a solver to silence this warning.\n",
      "  FutureWarning)\n"
     ]
    },
    {
     "name": "stdout",
     "output_type": "stream",
     "text": [
      "Wall time: 4min 53s\n"
     ]
    }
   ],
   "source": [
    "%%time\n",
    "#make pipeline. Feature extraction using TF-IDF, dimensionality reduction with a random projection, and a logistic regression model\n",
    "pipe = make_pipeline(TfidfVectorizer(analyzer='word', token_pattern=r'\\b[^\\d\\W]+\\b', stop_words='english'),SparseRandomProjection(), LogisticRegression())\n",
    "pipe.fit(x_train['Text'].tolist(), y_train['Label'].tolist())"
   ]
  },
  {
   "cell_type": "code",
   "execution_count": 14,
   "metadata": {},
   "outputs": [
    {
     "name": "stdout",
     "output_type": "stream",
     "text": [
      "                   pre       rec       spe        f1       geo       iba       sup\n",
      "\n",
      "          0       0.89      0.99      0.16      0.94      0.39      0.17     20295\n",
      "          1       0.64      0.16      0.99      0.25      0.39      0.14      2975\n",
      "\n",
      "avg / total       0.86      0.88      0.26      0.85      0.39      0.17     23270\n",
      "\n"
     ]
    }
   ],
   "source": [
    "y_pred = pipe.predict(x_test['Text'].tolist())\n",
    "print(classification_report_imbalanced(y_test, y_pred))"
   ]
  },
  {
   "cell_type": "code",
   "execution_count": 18,
   "metadata": {},
   "outputs": [
    {
     "data": {
      "text/plain": [
       "0.8810915341641599"
      ]
     },
     "execution_count": 18,
     "metadata": {},
     "output_type": "execute_result"
    }
   ],
   "source": [
    "#Accuracy on test set\n",
    "score=metrics.accuracy_score(y_test,y_pred)\n",
    "score"
   ]
  },
  {
   "cell_type": "code",
   "execution_count": 16,
   "metadata": {},
   "outputs": [
    {
     "name": "stdout",
     "output_type": "stream",
     "text": [
      "Confusion matrix:\n",
      "[[20033   262]\n",
      " [ 2505   470]]\n"
     ]
    }
   ],
   "source": [
    "#Confusion matrix\n",
    "print('Confusion matrix:')\n",
    "print(metrics.confusion_matrix(y_test,y_pred))"
   ]
  },
  {
   "cell_type": "markdown",
   "metadata": {},
   "source": [
    "# Balancing the class before classification\n",
    "***"
   ]
  },
  {
   "cell_type": "markdown",
   "metadata": {},
   "source": [
    "## Random under-sampling"
   ]
  },
  {
   "cell_type": "code",
   "execution_count": 20,
   "metadata": {},
   "outputs": [
    {
     "name": "stderr",
     "output_type": "stream",
     "text": [
      "C:\\Users\\cschu\\Anaconda3\\lib\\site-packages\\sklearn\\linear_model\\logistic.py:433: FutureWarning: Default solver will be changed to 'lbfgs' in 0.22. Specify a solver to silence this warning.\n",
      "  FutureWarning)\n"
     ]
    },
    {
     "name": "stdout",
     "output_type": "stream",
     "text": [
      "Wall time: 1min 10s\n"
     ]
    }
   ],
   "source": [
    "%%time\n",
    "#make pipeline. include random under sampling\n",
    "under_sample_pipe = make_pipeline_imb(TfidfVectorizer(analyzer='word', token_pattern=r'\\b[^\\d\\W]+\\b', stop_words='english'),\n",
    "                         SparseRandomProjection(),\n",
    "                         RandomUnderSampler(),\n",
    "                         LogisticRegression())\n",
    "\n",
    "under_sample_pipe.fit(x_train['Text'].tolist(), y_train['Label'].tolist())"
   ]
  },
  {
   "cell_type": "code",
   "execution_count": 21,
   "metadata": {},
   "outputs": [
    {
     "name": "stdout",
     "output_type": "stream",
     "text": [
      "                   pre       rec       spe        f1       geo       iba       sup\n",
      "\n",
      "          0       0.95      0.72      0.75      0.82      0.73      0.54     20295\n",
      "          1       0.28      0.75      0.72      0.41      0.73      0.54      2975\n",
      "\n",
      "avg / total       0.87      0.72      0.74      0.77      0.73      0.54     23270\n",
      "\n"
     ]
    }
   ],
   "source": [
    "#Make predictions on test set\n",
    "y_pred = under_sample_pipe.predict(x_test['Text'].tolist())\n",
    "print(classification_report_imbalanced(y_test, y_pred))"
   ]
  },
  {
   "cell_type": "code",
   "execution_count": 22,
   "metadata": {},
   "outputs": [
    {
     "data": {
      "text/plain": [
       "0.72440911044263"
      ]
     },
     "execution_count": 22,
     "metadata": {},
     "output_type": "execute_result"
    }
   ],
   "source": [
    "#Accuracy on test set\n",
    "score=metrics.accuracy_score(y_test,y_pred)\n",
    "score"
   ]
  },
  {
   "cell_type": "code",
   "execution_count": 23,
   "metadata": {},
   "outputs": [
    {
     "name": "stdout",
     "output_type": "stream",
     "text": [
      "Confusion matrix:\n",
      "[[14634  5661]\n",
      " [  752  2223]]\n"
     ]
    }
   ],
   "source": [
    "#Confusion matrix\n",
    "print('Confusion matrix:')\n",
    "print(metrics.confusion_matrix(y_test,y_pred))"
   ]
  },
  {
   "cell_type": "markdown",
   "metadata": {},
   "source": [
    "## Random over-sampling"
   ]
  },
  {
   "cell_type": "code",
   "execution_count": 27,
   "metadata": {},
   "outputs": [
    {
     "name": "stderr",
     "output_type": "stream",
     "text": [
      "C:\\Users\\cschu\\Anaconda3\\lib\\site-packages\\sklearn\\linear_model\\logistic.py:433: FutureWarning: Default solver will be changed to 'lbfgs' in 0.22. Specify a solver to silence this warning.\n",
      "  FutureWarning)\n"
     ]
    },
    {
     "name": "stdout",
     "output_type": "stream",
     "text": [
      "Wall time: 3min 8s\n"
     ]
    }
   ],
   "source": [
    "%%time\n",
    "#make pipeline. include random over sampling\n",
    "over_sample_pipe = make_pipeline_imb(TfidfVectorizer(analyzer='word', token_pattern=r'\\b[^\\d\\W]+\\b', stop_words='english'),\n",
    "                         SparseRandomProjection(),\n",
    "                         RandomOverSampler(),\n",
    "                         LogisticRegression())\n",
    "\n",
    "over_sample_pipe.fit(x_train['Text'].tolist(), y_train['Label'].tolist())"
   ]
  },
  {
   "cell_type": "code",
   "execution_count": 28,
   "metadata": {},
   "outputs": [
    {
     "name": "stdout",
     "output_type": "stream",
     "text": [
      "                   pre       rec       spe        f1       geo       iba       sup\n",
      "\n",
      "          0       0.95      0.78      0.70      0.86      0.74      0.55     20295\n",
      "          1       0.32      0.70      0.78      0.44      0.74      0.54      2975\n",
      "\n",
      "avg / total       0.87      0.77      0.71      0.80      0.74      0.55     23270\n",
      "\n"
     ]
    }
   ],
   "source": [
    "#Make predictions on test set\n",
    "y_pred = over_sample_pipe.predict(x_test['Text'].tolist())\n",
    "print(classification_report_imbalanced(y_test, y_pred))"
   ]
  },
  {
   "cell_type": "code",
   "execution_count": 29,
   "metadata": {},
   "outputs": [
    {
     "data": {
      "text/plain": [
       "0.7700472711645896"
      ]
     },
     "execution_count": 29,
     "metadata": {},
     "output_type": "execute_result"
    }
   ],
   "source": [
    "#Accuracy on test set\n",
    "score=metrics.accuracy_score(y_test,y_pred)\n",
    "score"
   ]
  },
  {
   "cell_type": "code",
   "execution_count": 30,
   "metadata": {},
   "outputs": [
    {
     "name": "stdout",
     "output_type": "stream",
     "text": [
      "Confusion matrix:\n",
      "[[15842  4453]\n",
      " [  898  2077]]\n"
     ]
    }
   ],
   "source": [
    "#Confusion matrix\n",
    "print('Confusion matrix:')\n",
    "print(metrics.confusion_matrix(y_test,y_pred))"
   ]
  },
  {
   "cell_type": "code",
   "execution_count": 32,
   "metadata": {},
   "outputs": [
    {
     "data": {
      "image/png": "[encoded data removed]",
      "text/plain": [
       "<Figure size 432x288 with 1 Axes>"
      ]
     },
     "metadata": {
      "needs_background": "light"
     },
     "output_type": "display_data"
    }
   ],
   "source": [
    "#ROC plot\n",
    "\n",
    "# calculate the fpr and tpr for all thresholds of the classification\n",
    "fpr, tpr, threshold = metrics.roc_curve(y_test, y_pred)\n",
    "roc_auc = metrics.auc(fpr, tpr)\n",
    "\n",
    "plt.title('Receiver Operating Characteristic')\n",
    "plt.plot(fpr, tpr, 'b', label = 'AUC = %0.2f' % roc_auc)\n",
    "plt.legend(loc = 'lower right')\n",
    "plt.plot([0, 1], [0, 1],'r--')\n",
    "plt.xlim([0, 1])\n",
    "plt.ylim([0, 1])\n",
    "plt.ylabel('True Positive Rate')\n",
    "plt.xlabel('False Positive Rate')\n",
    "plt.show()"
   ]
  }
 ],
 "metadata": {
  "kernelspec": {
   "display_name": "Python 3",
   "language": "python",
   "name": "python3"
  },
  "language_info": {
   "codemirror_mode": {
    "name": "ipython",
    "version": 3
   },
   "file_extension": ".py",
   "mimetype": "text/x-python",
   "name": "python",
   "nbconvert_exporter": "python",
   "pygments_lexer": "ipython3",
   "version": "3.7.0"
  }
 },
 "nbformat": 4,
 "nbformat_minor": 2
}
