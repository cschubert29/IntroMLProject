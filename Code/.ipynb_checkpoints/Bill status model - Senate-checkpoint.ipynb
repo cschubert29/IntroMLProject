{
 "cells": [
  {
   "cell_type": "code",
   "execution_count": 41,
   "metadata": {},
   "outputs": [],
   "source": [
    "#Imports\n",
    "import pandas as pd\n",
    "import numpy as np\n",
    "import numpy as np\n",
    "from sklearn.tree import DecisionTreeClassifier, export_graphviz\n",
    "from sklearn.preprocessing import Imputer\n",
    "from sklearn.base import TransformerMixin\n",
    "from sklearn import preprocessing\n",
    "from sklearn.preprocessing import LabelEncoder\n",
    "from sklearn.pipeline import Pipeline\n",
    "from sklearn import svm\n",
    "from sklearn.ensemble import RandomForestClassifier\n",
    "from imblearn.metrics import classification_report_imbalanced\n",
    "from sklearn.metrics import accuracy_score, confusion_matrix, roc_curve\n",
    "import matplotlib.pyplot as plt\n",
    "from sklearn import metrics"
   ]
  },
  {
   "cell_type": "code",
   "execution_count": 23,
   "metadata": {},
   "outputs": [],
   "source": [
    "#Reading data files\n",
    "path = r'..\\Data'\n",
    "filename_sen1 = path+'\\\\107th-112th Congress\\\\Bill status\\\\'+'Sen_bill_status_contemporary.json'\n",
    "filename_sen2 = path+'\\\\113th-114th Congress\\\\Bill status\\\\'+'Sen_bill_status_modern.json'\n",
    "f_sm = '..\\\\'+'Majority Party Chairmanships - Senate.csv'\n",
    "f_lc = path+'\\\\'+'legislators-current.csv'\n",
    "f_lh = path+'\\\\'+'legislators-historical.csv'"
   ]
  },
  {
   "cell_type": "code",
   "execution_count": 24,
   "metadata": {},
   "outputs": [],
   "source": [
    "#Getting the details about the congress and which party was in majority for that bill\n",
    "df_sm = pd.read_csv(f_sm)\n",
    "df_sm = df_sm[['Congress', 'MajParty']]\n",
    "df_sm = df_sm.drop_duplicates()"
   ]
  },
  {
   "cell_type": "code",
   "execution_count": 25,
   "metadata": {},
   "outputs": [
    {
     "data": {
      "text/html": [
       "<div>\n",
       "<style scoped>\n",
       "    .dataframe tbody tr th:only-of-type {\n",
       "        vertical-align: middle;\n",
       "    }\n",
       "\n",
       "    .dataframe tbody tr th {\n",
       "        vertical-align: top;\n",
       "    }\n",
       "\n",
       "    .dataframe thead th {\n",
       "        text-align: right;\n",
       "    }\n",
       "</style>\n",
       "<table border=\"1\" class=\"dataframe\">\n",
       "  <thead>\n",
       "    <tr style=\"text-align: right;\">\n",
       "      <th></th>\n",
       "      <th>Congress</th>\n",
       "      <th>MajParty</th>\n",
       "    </tr>\n",
       "  </thead>\n",
       "  <tbody>\n",
       "    <tr>\n",
       "      <th>0</th>\n",
       "      <td>84</td>\n",
       "      <td>D</td>\n",
       "    </tr>\n",
       "    <tr>\n",
       "      <th>1</th>\n",
       "      <td>90</td>\n",
       "      <td>D</td>\n",
       "    </tr>\n",
       "    <tr>\n",
       "      <th>2</th>\n",
       "      <td>92</td>\n",
       "      <td>D</td>\n",
       "    </tr>\n",
       "    <tr>\n",
       "      <th>3</th>\n",
       "      <td>94</td>\n",
       "      <td>D</td>\n",
       "    </tr>\n",
       "    <tr>\n",
       "      <th>4</th>\n",
       "      <td>96</td>\n",
       "      <td>D</td>\n",
       "    </tr>\n",
       "  </tbody>\n",
       "</table>\n",
       "</div>"
      ],
      "text/plain": [
       "   Congress MajParty\n",
       "0        84        D\n",
       "1        90        D\n",
       "2        92        D\n",
       "3        94        D\n",
       "4        96        D"
      ]
     },
     "execution_count": 25,
     "metadata": {},
     "output_type": "execute_result"
    }
   ],
   "source": [
    "df_sm.head()"
   ]
  },
  {
   "cell_type": "code",
   "execution_count": 26,
   "metadata": {},
   "outputs": [],
   "source": [
    "#Data preprocessing : fetching sponsors name and to which party they belong from legislators historical table\n",
    "#There was a seperate fiel for full name in the data but the data was ambegiuous, therefore create the full name using the \n",
    "#other two fields present that is first name and last name\n",
    "#keeping only those records where party type is sen taht is senate \n",
    "#And keeping only those records where party is either Republican or Democrat sinced there were many other parties as well \n",
    "# but these two are of our interest \n",
    "df_lc = pd.read_csv(f_lc)\n",
    "df_lh = pd.read_csv(f_lh)\n",
    "df_lh['full_name'] = df_lh['last_name'].fillna('')+', '+df_lh['first_name'].fillna('')\n",
    "df_lh = df_lh[df_lh['type'] == 'sen']\n",
    "df_lh = df_lh[['full_name', 'party']]\n",
    "party = [\"Republican\", \"Democrat\"]\n",
    "df_lh = df_lh[df_lh['party'].isin(party)]"
   ]
  },
  {
   "cell_type": "code",
   "execution_count": 27,
   "metadata": {},
   "outputs": [
    {
     "name": "stderr",
     "output_type": "stream",
     "text": [
      "C:\\Users\\cschu\\Anaconda3\\lib\\site-packages\\pandas\\core\\frame.py:6211: FutureWarning: Sorting because non-concatenation axis is not aligned. A future version\n",
      "of pandas will change to not sort by default.\n",
      "\n",
      "To accept the future behavior, pass 'sort=False'.\n",
      "\n",
      "To retain the current behavior and silence the warning, pass 'sort=True'.\n",
      "\n",
      "  sort=sort)\n"
     ]
    }
   ],
   "source": [
    "#Appending the two senate files because we have collected the data from two different sources\n",
    "df1 = pd.read_json(filename_sen1)\n",
    "df2 = pd.read_json(filename_sen2)\n",
    "df = df1.append(df2, ignore_index=True)\n",
    "df = df.fillna(np.nan)\n"
   ]
  },
  {
   "cell_type": "code",
   "execution_count": 28,
   "metadata": {
    "scrolled": true
   },
   "outputs": [
    {
     "data": {
      "text/html": [
       "<div>\n",
       "<style scoped>\n",
       "    .dataframe tbody tr th:only-of-type {\n",
       "        vertical-align: middle;\n",
       "    }\n",
       "\n",
       "    .dataframe tbody tr th {\n",
       "        vertical-align: top;\n",
       "    }\n",
       "\n",
       "    .dataframe thead th {\n",
       "        text-align: right;\n",
       "    }\n",
       "</style>\n",
       "<table border=\"1\" class=\"dataframe\">\n",
       "  <thead>\n",
       "    <tr style=\"text-align: right;\">\n",
       "      <th></th>\n",
       "      <th>actions</th>\n",
       "      <th>amendments</th>\n",
       "      <th>bill_id</th>\n",
       "      <th>bill_type</th>\n",
       "      <th>by_request</th>\n",
       "      <th>committee_reports</th>\n",
       "      <th>committees</th>\n",
       "      <th>congress</th>\n",
       "      <th>cosponsors</th>\n",
       "      <th>enacted_as</th>\n",
       "      <th>...</th>\n",
       "      <th>short_title</th>\n",
       "      <th>sponsor</th>\n",
       "      <th>status</th>\n",
       "      <th>status_at</th>\n",
       "      <th>subjects</th>\n",
       "      <th>subjects_top_term</th>\n",
       "      <th>summary</th>\n",
       "      <th>titles</th>\n",
       "      <th>updated_at</th>\n",
       "      <th>url</th>\n",
       "    </tr>\n",
       "  </thead>\n",
       "  <tbody>\n",
       "    <tr>\n",
       "      <th>0</th>\n",
       "      <td>[{'acted_at': '2001-03-28', 'references': [], ...</td>\n",
       "      <td>[{'amendment_id': 's354-107', 'amendment_type'...</td>\n",
       "      <td>s1-107</td>\n",
       "      <td>s</td>\n",
       "      <td>NaN</td>\n",
       "      <td>NaN</td>\n",
       "      <td>[{'activity': ['origin', 'reporting', 'markup'...</td>\n",
       "      <td>107</td>\n",
       "      <td>[]</td>\n",
       "      <td>NaN</td>\n",
       "      <td>...</td>\n",
       "      <td>Better Education for Students and Teachers Act</td>\n",
       "      <td>{'district': None, 'name': 'Jeffords, James M....</td>\n",
       "      <td>REPORTED</td>\n",
       "      <td>2001-03-28</td>\n",
       "      <td>[Academic performance, Administrative procedur...</td>\n",
       "      <td>Elementary and secondary education</td>\n",
       "      <td>{'as': 'Reported to Senate without amendment',...</td>\n",
       "      <td>[{'as': None, 'title': 'Elementary and Seconda...</td>\n",
       "      <td>2013-02-03 01:46:35</td>\n",
       "      <td>NaN</td>\n",
       "    </tr>\n",
       "    <tr>\n",
       "      <th>1</th>\n",
       "      <td>[{'acted_at': '2001-01-22', 'references': [], ...</td>\n",
       "      <td>[]</td>\n",
       "      <td>s10-107</td>\n",
       "      <td>s</td>\n",
       "      <td>NaN</td>\n",
       "      <td>NaN</td>\n",
       "      <td>[{'activity': ['referral', 'in committee'], 'c...</td>\n",
       "      <td>107</td>\n",
       "      <td>[{'district': None, 'name': 'Akaka, Daniel K.'...</td>\n",
       "      <td>NaN</td>\n",
       "      <td>...</td>\n",
       "      <td>Medicare Prescription Drug Coverage Act of 2001</td>\n",
       "      <td>{'district': None, 'name': 'Daschle, Thomas A....</td>\n",
       "      <td>REFERRED</td>\n",
       "      <td>2001-01-22</td>\n",
       "      <td>[Access to health care, Administrative procedu...</td>\n",
       "      <td>Health</td>\n",
       "      <td>{'as': 'Introduced', 'date': '2001-01-22', 'te...</td>\n",
       "      <td>[{'as': 'introduced', 'title': 'Medicare Presc...</td>\n",
       "      <td>2013-02-03 01:46:36</td>\n",
       "      <td>NaN</td>\n",
       "    </tr>\n",
       "    <tr>\n",
       "      <th>2</th>\n",
       "      <td>[{'acted_at': '2001-01-22', 'references': [{'r...</td>\n",
       "      <td>[]</td>\n",
       "      <td>s100-107</td>\n",
       "      <td>s</td>\n",
       "      <td>NaN</td>\n",
       "      <td>NaN</td>\n",
       "      <td>[{'activity': ['referral', 'hearings', 'in com...</td>\n",
       "      <td>107</td>\n",
       "      <td>[]</td>\n",
       "      <td>NaN</td>\n",
       "      <td>...</td>\n",
       "      <td>Death Tax Termination Act of 2001</td>\n",
       "      <td>{'district': None, 'name': 'Allard, Wayne', 's...</td>\n",
       "      <td>REPORTED</td>\n",
       "      <td>2002-03-21</td>\n",
       "      <td>[Estate tax, Gift tax, Inheritance tax, Tax cu...</td>\n",
       "      <td>Taxation</td>\n",
       "      <td>{'as': 'Introduced', 'date': '2001-01-22', 'te...</td>\n",
       "      <td>[{'as': 'introduced', 'title': 'Death Tax Term...</td>\n",
       "      <td>2013-02-03 01:46:38</td>\n",
       "      <td>NaN</td>\n",
       "    </tr>\n",
       "    <tr>\n",
       "      <th>3</th>\n",
       "      <td>[{'acted_at': '2001-06-07', 'references': [{'r...</td>\n",
       "      <td>[]</td>\n",
       "      <td>s1000-107</td>\n",
       "      <td>s</td>\n",
       "      <td>NaN</td>\n",
       "      <td>NaN</td>\n",
       "      <td>[{'activity': ['referral', 'in committee'], 'c...</td>\n",
       "      <td>107</td>\n",
       "      <td>[{'district': None, 'name': 'Cleland, Max', 's...</td>\n",
       "      <td>NaN</td>\n",
       "      <td>...</td>\n",
       "      <td>Child Care Quality Incentive Act of 2001</td>\n",
       "      <td>{'district': None, 'name': 'Reed, Jack', 'stat...</td>\n",
       "      <td>REFERRED</td>\n",
       "      <td>2001-06-07</td>\n",
       "      <td>[Appropriations, Authorization, Child care blo...</td>\n",
       "      <td>Families</td>\n",
       "      <td>{'as': 'Introduced', 'date': '2001-06-07', 'te...</td>\n",
       "      <td>[{'as': 'introduced', 'title': 'Child Care Qua...</td>\n",
       "      <td>2013-02-03 01:46:59</td>\n",
       "      <td>NaN</td>\n",
       "    </tr>\n",
       "    <tr>\n",
       "      <th>4</th>\n",
       "      <td>[{'acted_at': '2001-06-07', 'committee': 'Comm...</td>\n",
       "      <td>[]</td>\n",
       "      <td>s1001-107</td>\n",
       "      <td>s</td>\n",
       "      <td>NaN</td>\n",
       "      <td>NaN</td>\n",
       "      <td>[{'activity': ['referral', 'in committee'], 'c...</td>\n",
       "      <td>107</td>\n",
       "      <td>[{'district': None, 'name': 'Hutchinson, Tim',...</td>\n",
       "      <td>NaN</td>\n",
       "      <td>...</td>\n",
       "      <td>Wage Index Fairness Act of 2001</td>\n",
       "      <td>{'district': None, 'name': 'Sessions, Jeff', '...</td>\n",
       "      <td>REFERRED</td>\n",
       "      <td>2001-06-07</td>\n",
       "      <td>[Ambulatory care, Health, Hospital care, Hospi...</td>\n",
       "      <td>Health</td>\n",
       "      <td>{'as': 'Introduced', 'date': '2001-06-07', 'te...</td>\n",
       "      <td>[{'as': 'introduced', 'title': 'Wage Index Fai...</td>\n",
       "      <td>2013-02-03 01:46:59</td>\n",
       "      <td>NaN</td>\n",
       "    </tr>\n",
       "  </tbody>\n",
       "</table>\n",
       "<p>5 rows × 26 columns</p>\n",
       "</div>"
      ],
      "text/plain": [
       "                                             actions  \\\n",
       "0  [{'acted_at': '2001-03-28', 'references': [], ...   \n",
       "1  [{'acted_at': '2001-01-22', 'references': [], ...   \n",
       "2  [{'acted_at': '2001-01-22', 'references': [{'r...   \n",
       "3  [{'acted_at': '2001-06-07', 'references': [{'r...   \n",
       "4  [{'acted_at': '2001-06-07', 'committee': 'Comm...   \n",
       "\n",
       "                                          amendments    bill_id bill_type  \\\n",
       "0  [{'amendment_id': 's354-107', 'amendment_type'...     s1-107         s   \n",
       "1                                                 []    s10-107         s   \n",
       "2                                                 []   s100-107         s   \n",
       "3                                                 []  s1000-107         s   \n",
       "4                                                 []  s1001-107         s   \n",
       "\n",
       "  by_request committee_reports  \\\n",
       "0        NaN               NaN   \n",
       "1        NaN               NaN   \n",
       "2        NaN               NaN   \n",
       "3        NaN               NaN   \n",
       "4        NaN               NaN   \n",
       "\n",
       "                                          committees  congress  \\\n",
       "0  [{'activity': ['origin', 'reporting', 'markup'...       107   \n",
       "1  [{'activity': ['referral', 'in committee'], 'c...       107   \n",
       "2  [{'activity': ['referral', 'hearings', 'in com...       107   \n",
       "3  [{'activity': ['referral', 'in committee'], 'c...       107   \n",
       "4  [{'activity': ['referral', 'in committee'], 'c...       107   \n",
       "\n",
       "                                          cosponsors enacted_as ...   \\\n",
       "0                                                 []        NaN ...    \n",
       "1  [{'district': None, 'name': 'Akaka, Daniel K.'...        NaN ...    \n",
       "2                                                 []        NaN ...    \n",
       "3  [{'district': None, 'name': 'Cleland, Max', 's...        NaN ...    \n",
       "4  [{'district': None, 'name': 'Hutchinson, Tim',...        NaN ...    \n",
       "\n",
       "                                       short_title  \\\n",
       "0   Better Education for Students and Teachers Act   \n",
       "1  Medicare Prescription Drug Coverage Act of 2001   \n",
       "2                Death Tax Termination Act of 2001   \n",
       "3         Child Care Quality Incentive Act of 2001   \n",
       "4                  Wage Index Fairness Act of 2001   \n",
       "\n",
       "                                             sponsor    status  status_at  \\\n",
       "0  {'district': None, 'name': 'Jeffords, James M....  REPORTED 2001-03-28   \n",
       "1  {'district': None, 'name': 'Daschle, Thomas A....  REFERRED 2001-01-22   \n",
       "2  {'district': None, 'name': 'Allard, Wayne', 's...  REPORTED 2002-03-21   \n",
       "3  {'district': None, 'name': 'Reed, Jack', 'stat...  REFERRED 2001-06-07   \n",
       "4  {'district': None, 'name': 'Sessions, Jeff', '...  REFERRED 2001-06-07   \n",
       "\n",
       "                                            subjects  \\\n",
       "0  [Academic performance, Administrative procedur...   \n",
       "1  [Access to health care, Administrative procedu...   \n",
       "2  [Estate tax, Gift tax, Inheritance tax, Tax cu...   \n",
       "3  [Appropriations, Authorization, Child care blo...   \n",
       "4  [Ambulatory care, Health, Hospital care, Hospi...   \n",
       "\n",
       "                    subjects_top_term  \\\n",
       "0  Elementary and secondary education   \n",
       "1                              Health   \n",
       "2                            Taxation   \n",
       "3                            Families   \n",
       "4                              Health   \n",
       "\n",
       "                                             summary  \\\n",
       "0  {'as': 'Reported to Senate without amendment',...   \n",
       "1  {'as': 'Introduced', 'date': '2001-01-22', 'te...   \n",
       "2  {'as': 'Introduced', 'date': '2001-01-22', 'te...   \n",
       "3  {'as': 'Introduced', 'date': '2001-06-07', 'te...   \n",
       "4  {'as': 'Introduced', 'date': '2001-06-07', 'te...   \n",
       "\n",
       "                                              titles          updated_at  url  \n",
       "0  [{'as': None, 'title': 'Elementary and Seconda... 2013-02-03 01:46:35  NaN  \n",
       "1  [{'as': 'introduced', 'title': 'Medicare Presc... 2013-02-03 01:46:36  NaN  \n",
       "2  [{'as': 'introduced', 'title': 'Death Tax Term... 2013-02-03 01:46:38  NaN  \n",
       "3  [{'as': 'introduced', 'title': 'Child Care Qua... 2013-02-03 01:46:59  NaN  \n",
       "4  [{'as': 'introduced', 'title': 'Wage Index Fai... 2013-02-03 01:46:59  NaN  \n",
       "\n",
       "[5 rows x 26 columns]"
      ]
     },
     "execution_count": 28,
     "metadata": {},
     "output_type": "execute_result"
    }
   ],
   "source": [
    "df.head()"
   ]
  },
  {
   "cell_type": "code",
   "execution_count": 29,
   "metadata": {},
   "outputs": [],
   "source": [
    "# normalizing the data by creating flags \n",
    "#if there is any data in the cosponsor field taht is any non missing value make the flag 1 else 0 \n",
    "#if there is non missing value in the field amendments make the flag 1 else 0\n",
    "#if there is non missing value in the field  popular_title make the flag 1 else 0\n",
    "#if there is non missing value in the field  related_bills make the flag 1 else 0\n",
    "# creating full name for the sponsor , keeping only first and last name\n",
    "df['cosponsor_flg'] = np.where(df['cosponsors'].apply(len)==0, 0, 1)\n",
    "df['amendments_flg'] = np.where(df['amendments'].apply(len)==0, 0, 1)\n",
    "df['popular_flg'] = np.where(df['popular_title'].isnull(), 0, 1)\n",
    "df['related_bills_flg'] = np.where(df['related_bills'].apply(len)==0, 0, 1)\n",
    "df['sponsor_nm'] = [d.get('name') for d in df.sponsor]\n",
    "df['full_name'] = df['sponsor_nm'].str.split(' ',expand = True)[0]+' '+df['sponsor_nm'].str.split(' ',expand = True)[1] \n",
    "df['Congress'] = pd.to_numeric(df['congress'], errors='coerce')"
   ]
  },
  {
   "cell_type": "code",
   "execution_count": 30,
   "metadata": {},
   "outputs": [],
   "source": [
    "#merging files on sponsor names and congress\n",
    "\n",
    "df_sen1 = pd.merge(df, df_lh, how='inner', on=['full_name'])\n",
    "df_sen2 = pd.merge(df_sen1, df_sm, how='inner', on=['Congress'])"
   ]
  },
  {
   "cell_type": "code",
   "execution_count": 31,
   "metadata": {},
   "outputs": [
    {
     "data": {
      "text/plain": [
       "(12805, 35)"
      ]
     },
     "execution_count": 31,
     "metadata": {},
     "output_type": "execute_result"
    }
   ],
   "source": [
    "df_sen2.shape"
   ]
  },
  {
   "cell_type": "code",
   "execution_count": 32,
   "metadata": {},
   "outputs": [],
   "source": [
    "df_sen3 = df_sen2[df_sen2['party'].isin(party)]\n",
    "df_sen3['party_flg'] = np.where(df_sen3['party'] == \"Republican\", 0, 1)\n",
    "df_sen3['majority_flg'] = np.where(df_sen3['MajParty'] == \"R\", 0, 1)\n",
    "#Map status to binary value\n",
    "statuses = ['INTRODUCED','REFERRED']\n",
    "df_sen3['Class'] = np.where(df_sen3['status'].isin(statuses), 0, 1)"
   ]
  },
  {
   "cell_type": "code",
   "execution_count": 34,
   "metadata": {},
   "outputs": [],
   "source": [
    "#our class field is Status\n",
    "df_sen = df_sen3[['bill_id', 'cosponsor_flg','amendments_flg', 'popular_flg', 'related_bills_flg', 'party_flg', 'majority_flg', 'Class']]\n",
    "df_sen = df_sen.reset_index(drop = True)\n"
   ]
  },
  {
   "cell_type": "code",
   "execution_count": 35,
   "metadata": {},
   "outputs": [],
   "source": [
    "#Final Feature selection\n",
    "#taking 80% training data\n",
    "features = list(df_sen.columns[1:7])\n",
    "traindatasize = int(len(df_sen)*.8)\n",
    "testdatasize = len(df_sen) - traindatasize\n"
   ]
  },
  {
   "cell_type": "code",
   "execution_count": 36,
   "metadata": {},
   "outputs": [],
   "source": [
    "#assigning data for tarining and test\n",
    "traindata = df_sen[0:traindatasize]\n",
    "testdata = df_sen[traindatasize:len(df_sen)+1]\n",
    "\n",
    "df2 = traindata\n",
    "y_train = df2[\"Class\"]\n",
    "X_train = df2[features]\n",
    "\n",
    "df3 = testdata\n",
    "y_test = df3[\"Class\"]\n",
    "X_test = df3[features]\n"
   ]
  },
  {
   "cell_type": "markdown",
   "metadata": {},
   "source": [
    "# Random Forest\n",
    "***"
   ]
  },
  {
   "cell_type": "code",
   "execution_count": 37,
   "metadata": {},
   "outputs": [
    {
     "data": {
      "text/plain": [
       "array([0, 0, 0, ..., 0, 0, 0])"
      ]
     },
     "execution_count": 37,
     "metadata": {},
     "output_type": "execute_result"
    }
   ],
   "source": [
    "#applying random forest \n",
    "rf = RandomForestClassifier(n_estimators=100, max_depth=2, random_state=0)\n",
    "rf.fit(X_train, y_train)\n",
    "y_predicted_rf = rf.predict(X_test)\n",
    "y_score_rf = rf.score(X_test,y_test)\n",
    "y_predicted_rf\n",
    "#y_score_rf"
   ]
  },
  {
   "cell_type": "code",
   "execution_count": 38,
   "metadata": {},
   "outputs": [
    {
     "data": {
      "text/plain": [
       "0.886372510737993"
      ]
     },
     "execution_count": 38,
     "metadata": {},
     "output_type": "execute_result"
    }
   ],
   "source": [
    "y_score_rf"
   ]
  },
  {
   "cell_type": "code",
   "execution_count": 39,
   "metadata": {},
   "outputs": [
    {
     "name": "stdout",
     "output_type": "stream",
     "text": [
      "                   pre       rec       spe        f1       geo       iba       sup\n",
      "\n",
      "          0       0.88      1.00      0.16      0.94      0.40      0.18      2217\n",
      "          1       0.95      0.16      1.00      0.28      0.40      0.15       344\n",
      "\n",
      "avg / total       0.89      0.89      0.28      0.85      0.40      0.17      2561\n",
      "\n"
     ]
    }
   ],
   "source": [
    "#Classification report\n",
    "print(classification_report_imbalanced(y_test, y_predicted_rf))"
   ]
  },
  {
   "cell_type": "code",
   "execution_count": 40,
   "metadata": {
    "scrolled": true
   },
   "outputs": [
    {
     "name": "stdout",
     "output_type": "stream",
     "text": [
      "[[2214    3]\n",
      " [ 288   56]]\n"
     ]
    }
   ],
   "source": [
    "#Confusion matrix\n",
    "print(confusion_matrix(y_test, y_predicted_rf))"
   ]
  },
  {
   "cell_type": "code",
   "execution_count": 43,
   "metadata": {},
   "outputs": [
    {
     "data": {
      "image/png": "[encoded data removed]",
      "text/plain": [
       "<Figure size 432x288 with 1 Axes>"
      ]
     },
     "metadata": {
      "needs_background": "light"
     },
     "output_type": "display_data"
    }
   ],
   "source": [
    "#ROC curve\n",
    "\n",
    "\n",
    "# calculate the fpr and tpr for all thresholds of the classification\n",
    "fpr, tpr, threshold = metrics.roc_curve(y_test, y_predicted_rf)\n",
    "roc_auc = metrics.auc(fpr, tpr)\n",
    "\n",
    "plt.title('Receiver Operating Characteristic')\n",
    "plt.plot(fpr, tpr, 'b', label = 'AUC = %0.2f' % roc_auc)\n",
    "plt.legend(loc = 'lower right')\n",
    "plt.plot([0, 1], [0, 1],'r--')\n",
    "plt.xlim([0, 1])\n",
    "plt.ylim([0, 1])\n",
    "plt.ylabel('True Positive Rate')\n",
    "plt.xlabel('False Positive Rate')\n",
    "plt.show()"
   ]
  },
  {
   "cell_type": "markdown",
   "metadata": {},
   "source": [
    "# Decision Tree\n",
    "***"
   ]
  },
  {
   "cell_type": "code",
   "execution_count": 44,
   "metadata": {},
   "outputs": [
    {
     "data": {
      "text/plain": [
       "array([0, 0, 0, ..., 0, 0, 0])"
      ]
     },
     "execution_count": 44,
     "metadata": {},
     "output_type": "execute_result"
    }
   ],
   "source": [
    "#applying decision tree\n",
    "dt = DecisionTreeClassifier()\n",
    "dt.fit(X_train, y_train)\n",
    "y_predicted = dt.predict(X_test)\n",
    "y_score = dt.score(X_test,y_test)\n",
    "y_predicted"
   ]
  },
  {
   "cell_type": "code",
   "execution_count": 45,
   "metadata": {},
   "outputs": [
    {
     "data": {
      "text/plain": [
       "0.8859820382663022"
      ]
     },
     "execution_count": 45,
     "metadata": {},
     "output_type": "execute_result"
    }
   ],
   "source": [
    "y_score"
   ]
  },
  {
   "cell_type": "code",
   "execution_count": 46,
   "metadata": {},
   "outputs": [
    {
     "name": "stdout",
     "output_type": "stream",
     "text": [
      "                   pre       rec       spe        f1       geo       iba       sup\n",
      "\n",
      "          0       0.89      1.00      0.17      0.94      0.41      0.18      2217\n",
      "          1       0.92      0.17      1.00      0.28      0.41      0.15       344\n",
      "\n",
      "avg / total       0.89      0.89      0.28      0.85      0.41      0.18      2561\n",
      "\n"
     ]
    }
   ],
   "source": [
    "#Classification report\n",
    "print(classification_report_imbalanced(y_test, y_predicted))"
   ]
  },
  {
   "cell_type": "code",
   "execution_count": 47,
   "metadata": {
    "scrolled": true
   },
   "outputs": [
    {
     "name": "stdout",
     "output_type": "stream",
     "text": [
      "[[2212    5]\n",
      " [ 287   57]]\n"
     ]
    }
   ],
   "source": [
    "#Confusion matrix\n",
    "print(confusion_matrix(y_test, y_predicted))"
   ]
  },
  {
   "cell_type": "code",
   "execution_count": 48,
   "metadata": {},
   "outputs": [
    {
     "data": {
      "image/png": "[encoded data removed]",
      "text/plain": [
       "<Figure size 432x288 with 1 Axes>"
      ]
     },
     "metadata": {
      "needs_background": "light"
     },
     "output_type": "display_data"
    }
   ],
   "source": [
    "#ROC curve\n",
    "\n",
    "\n",
    "# calculate the fpr and tpr for all thresholds of the classification\n",
    "fpr, tpr, threshold = metrics.roc_curve(y_test, y_predicted)\n",
    "roc_auc = metrics.auc(fpr, tpr)\n",
    "\n",
    "plt.title('Receiver Operating Characteristic')\n",
    "plt.plot(fpr, tpr, 'b', label = 'AUC = %0.2f' % roc_auc)\n",
    "plt.legend(loc = 'lower right')\n",
    "plt.plot([0, 1], [0, 1],'r--')\n",
    "plt.xlim([0, 1])\n",
    "plt.ylim([0, 1])\n",
    "plt.ylabel('True Positive Rate')\n",
    "plt.xlabel('False Positive Rate')\n",
    "plt.show()"
   ]
  },
  {
   "cell_type": "markdown",
   "metadata": {},
   "source": [
    "# SVM\n",
    "***"
   ]
  },
  {
   "cell_type": "code",
   "execution_count": 49,
   "metadata": {},
   "outputs": [
    {
     "name": "stderr",
     "output_type": "stream",
     "text": [
      "C:\\Users\\cschu\\Anaconda3\\lib\\site-packages\\sklearn\\svm\\base.py:196: FutureWarning: The default value of gamma will change from 'auto' to 'scale' in version 0.22 to account better for unscaled features. Set gamma explicitly to 'auto' or 'scale' to avoid this warning.\n",
      "  \"avoid this warning.\", FutureWarning)\n"
     ]
    },
    {
     "data": {
      "text/plain": [
       "array([0, 0, 0, ..., 0, 0, 0])"
      ]
     },
     "execution_count": 49,
     "metadata": {},
     "output_type": "execute_result"
    }
   ],
   "source": [
    "#applying SVM\n",
    "d_svm = svm.SVC()\n",
    "d_svm.fit(X_train, y_train)\n",
    "y_predicted_svm = d_svm.predict(X_test)\n",
    "y_score_svm = d_svm.score(X_test,y_test)\n",
    "y_predicted_svm"
   ]
  },
  {
   "cell_type": "code",
   "execution_count": 50,
   "metadata": {},
   "outputs": [
    {
     "data": {
      "text/plain": [
       "0.8855915657946115"
      ]
     },
     "execution_count": 50,
     "metadata": {},
     "output_type": "execute_result"
    }
   ],
   "source": [
    "y_score_svm"
   ]
  },
  {
   "cell_type": "code",
   "execution_count": 51,
   "metadata": {},
   "outputs": [
    {
     "name": "stdout",
     "output_type": "stream",
     "text": [
      "                   pre       rec       spe        f1       geo       iba       sup\n",
      "\n",
      "          0       0.89      1.00      0.17      0.94      0.41      0.18      2217\n",
      "          1       0.90      0.17      1.00      0.28      0.41      0.15       344\n",
      "\n",
      "avg / total       0.89      0.89      0.28      0.85      0.41      0.18      2561\n",
      "\n"
     ]
    }
   ],
   "source": [
    "#Classification report\n",
    "print(classification_report_imbalanced(y_test, y_predicted_svm))"
   ]
  },
  {
   "cell_type": "code",
   "execution_count": 52,
   "metadata": {
    "scrolled": true
   },
   "outputs": [
    {
     "name": "stdout",
     "output_type": "stream",
     "text": [
      "[[2211    6]\n",
      " [ 287   57]]\n"
     ]
    }
   ],
   "source": [
    "#Confusion matrix\n",
    "print(confusion_matrix(y_test, y_predicted_svm))"
   ]
  },
  {
   "cell_type": "code",
   "execution_count": 53,
   "metadata": {},
   "outputs": [
    {
     "data": {
      "image/png": "[encoded data removed]",
      "text/plain": [
       "<Figure size 432x288 with 1 Axes>"
      ]
     },
     "metadata": {
      "needs_background": "light"
     },
     "output_type": "display_data"
    }
   ],
   "source": [
    "#ROC curve\n",
    "\n",
    "\n",
    "# calculate the fpr and tpr for all thresholds of the classification\n",
    "fpr, tpr, threshold = metrics.roc_curve(y_test, y_predicted_svm)\n",
    "roc_auc = metrics.auc(fpr, tpr)\n",
    "\n",
    "plt.title('Receiver Operating Characteristic')\n",
    "plt.plot(fpr, tpr, 'b', label = 'AUC = %0.2f' % roc_auc)\n",
    "plt.legend(loc = 'lower right')\n",
    "plt.plot([0, 1], [0, 1],'r--')\n",
    "plt.xlim([0, 1])\n",
    "plt.ylim([0, 1])\n",
    "plt.ylabel('True Positive Rate')\n",
    "plt.xlabel('False Positive Rate')\n",
    "plt.show()"
   ]
  },
  {
   "cell_type": "code",
   "execution_count": 54,
   "metadata": {},
   "outputs": [],
   "source": [
    "#converting data into csv for visualization \n",
    "df_sen.to_csv(path+'senate_viz.csv')"
   ]
  }
 ],
 "metadata": {
  "kernelspec": {
   "display_name": "Python 3",
   "language": "python",
   "name": "python3"
  },
  "language_info": {
   "codemirror_mode": {
    "name": "ipython",
    "version": 3
   },
   "file_extension": ".py",
   "mimetype": "text/x-python",
   "name": "python",
   "nbconvert_exporter": "python",
   "pygments_lexer": "ipython3",
   "version": "3.7.0"
  }
 },
 "nbformat": 4,
 "nbformat_minor": 2
}
